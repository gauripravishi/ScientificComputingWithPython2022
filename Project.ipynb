{
 "cells": [
  {
   "cell_type": "markdown",
   "metadata": {},
   "source": [
    "# Analysis of Vodafone users' fluxes\n",
    "\n",
    "The study of the flux of people inside urban areas is of paramount importance to achieve an optimal understanding of emerging critical issues in the local mobility, and to explore areas of potential improvements in the infrastructures and local transports.\n",
    "\n",
    "The mobility of users within and toward Padova has been monitored using the data provided by the Vodafone mobile carrier, which provides the information based on the users' connections to the network cells.\n",
    "The data provided by the carrier encompasses the monitoring of the users connected to the Vodafone network in Padova in a four-month period from February to May of 2018.\n",
    "\n",
    "To provide statistical insights on the number and the flow of users, the data is aggregated based on the origin and movements of the users by averaging the number of connections during the time of the monitoring.\n",
    "\n",
    "To further avoid privacy violation issues, all observations with less than 30 units (e.g. day-areas for which $<$30 users have contributed) have been discarded and/or merged into dedicated categories (indicated with \"altro\", or \"other\").\n",
    "\n",
    "\n",
    "## Datasets \n",
    "\n",
    "The data is provided in `.csv` files.\n",
    "\n",
    "* __day_od.csv__: table of the origins and destinations of the users averaged by the day of the week. The data is provided with details of the month, type of user (resident in Padova/Italian visitor/foreign visitor), country of provenance, together with the province and comune of the user (if available).\n",
    "* __distinct_users_day.csv__: table of the number of distinct users by origin. The data is provided with details of the month, type of user (resident in Padova/Italian visitor/foreign visitor), country of provenance, together with the province and comune of the user (if available).\n",
    "\n",
    "The information is stored in the fields according to the following scheme: \n",
    "\n",
    "- __MONTH__: month analyzed\n",
    "- __DOW__: day analyzed\n",
    "- __ORIGIN__: users' origin area (do not consider this field)\n",
    "- __DESTINATION__: users' destination area (do not consider this field)\n",
    "- __CUST_CLASS__: user type (resident / Italian visitor / foreigner visitor)\n",
    "- __COD_COUNTRY__: users' country code (e.g. 222=Italy)\n",
    "- __COD_PRO__: users' province code (e.g. 12=Varese) \n",
    "- __PRO_COM__: users' comune code (e.g. 12026=Busto Arsizio)\n",
    "- __FLOW__: number of movements for given date-time (with a minimum of 30 users)\n",
    "- __VISITORS__: overall number of users \n",
    "\n",
    "Together with the data files, three lookup-tables are provided to allow matching the Italian institute of STATistics (ISTAT) country, province and comune codes to the actual names.\n",
    "\n",
    "* __codici_istat_comune.csv__: lookup file containing the mapping between _comune_ ISTAT code-names\n",
    "* __codici_istat_provincia.csv__: lookup file containing the mapping between _province_ ISTAT code-names\n",
    "* __codici_nazioni.csv__: lookup file containing mapping the _country_ code to its name\n",
    "\n",
    "Additional information, useful for the study of the flow of users, as the number of inhabitants of each province and the distance between Padova and all other Italian provinces can be extracted based on the data collected by the ISTAT:\n",
    "\n",
    "   - English: https://www.istat.it/en/analysis-and-products/databases, Italian: https://www.istat.it/it/dati-analisi-e-prodotti/banche-dati\n",
    "   \n",
    "   - English/Italian: https://www.istat.it/en/archive/157423, Italian: https://www.istat.it/it/archivio/157423\n",
    "   \n",
    "   - `.zip` package containing the distances between comuni in Veneto region: http://www.istat.it/storage/cartografia/matrici_distanze/Veneto.zip\n",
    "\n",
    "If deemed useful, the open repository [https://github.com/openpolis/geojson-italy](https://github.com/openpolis/geojson-italy) contains a `.json` file with the geographical coordinates of the provinces and communi of Italy.\n",
    "\n",
    "\n",
    "## Assignments\n",
    "\n",
    "1. Data preparation: the csv files are originated from different sources, hence resulting in differences in the encoding and end-of-lines that have to be taken into account in the data preparation phase. Make sure each .csv file is properly interpreted.\n",
    "\n",
    "   1.1 Ranking of visitors from foreign countries: based on the number of total visitors per each country, create a ranked plot of the first 20 countries with the most visitors\n",
    "   \n",
    "   1.2 Ranking of Italian visitors by province, weighted by the number of inhabitants: based on the number of total visitors per Italian province, create a ranked plot of the first 20 provinces with the most visitors taking into account the number of inhabitants.\n",
    "\n",
    "\n",
    "2. Study of the visitors' fluxes: you are asked to provide indications on how to invest resources to improve the mobility towards Padova. Consider the three main directions of visitors and commuters getting to Padova through the main highways (from south, A13 towards Bologna-Roma; from west, A4 towards Milano-Torino; from north-east, A4 towards Venice-Trieste). Evaluate which of the three directions has to be prioritized.\n",
    "\n",
    "   2.1 Consider a simplified case involving only the mid-range mobility, based on the number of visitors/commuters from the nearby regions only\n",
    "   \n",
    "   2.2 Consider the provinces located on the three directions that are mostly contributing to the flow of weekend visitors and working daily commuters by performing a more detailed study of the fluxes based on the day of the week. Use the data available to provide what you believe is the best possible answer.\n",
    "\n",
    "\n",
    "3. Plot the distribution of the number of visitors by the distance of the province of origin. Determine which kind of function should be used to describe the distribution.\n",
    "\n",
    "   3.1 Assuming an analytic form can be used to describe the trend, create a regression or a fit to estimate the expected number of visitors by the distance of the province of origin and the corresponding uncertainties. Illustrate the difference between the resulting regression with respect to the numbers provided by the Vodafone monitoring, and highlight the five most striking discrepancies from the expectations."
   ]
  },
  {
   "cell_type": "code",
   "execution_count": 2,
   "metadata": {},
   "outputs": [],
   "source": [
    "#importing the necessary modules\n",
    "import numpy as np\n",
    "import pandas as pd\n",
    "import csv\n",
    "import codecs\n",
    "import re\n",
    "from matplotlib import pyplot as plt\n"
   ]
  },
  {
   "cell_type": "markdown",
   "metadata": {},
   "source": [
    "# Task 1 : Data Preparation "
   ]
  },
  {
   "cell_type": "markdown",
   "metadata": {},
   "source": [
    "## Task 1.1 : Data Extraction and Interpretation from .csv files"
   ]
  },
  {
   "cell_type": "code",
   "execution_count": 117,
   "metadata": {
    "scrolled": true
   },
   "outputs": [
    {
     "name": "stdout",
     "output_type": "stream",
     "text": [
      "      COD_PRO  PRO_COM           COMUNE  COMUNE_CAPOLUOGO\n",
      "0           1     1001            Agliè                 0\n",
      "1           1     1002          Airasca                 0\n",
      "2           1     1003     Ala di Stura                 0\n",
      "3           1     1004  Albiano d'Ivrea                 0\n",
      "4           1     1005  Alice Superiore                 0\n",
      "...       ...      ...              ...               ...\n",
      "7950      111   111104       Villasalto                 0\n",
      "7951      111   111105      Villasimius                 0\n",
      "7952      111   111106         Villasor                 0\n",
      "7953      111   111107    Villaspeciosa                 0\n",
      "7954     -999     -999            Altro                 0\n",
      "\n",
      "[7955 rows x 4 columns]\n",
      "     COD_REG  COD_PRO     PROVINCIA PROV_SIGLA\n",
      "0          1        1        Torino         TO\n",
      "1          1        2      Vercelli         VC\n",
      "2          1        3        Novara         NO\n",
      "3          1        4         Cuneo         CN\n",
      "4          1        5          Asti         AT\n",
      "..       ...      ...           ...        ...\n",
      "103       20       91         Nuoro         NU\n",
      "104       20       92      Cagliari         CA\n",
      "105       20       95      Oristano         OR\n",
      "106       20      111  Sud Sardegna         SU\n",
      "107     -999     -999         Altro         ND\n",
      "\n",
      "[108 rows x 4 columns]\n",
      "     COD_COUNTRY COUNTRY_NAME_IT\n",
      "0            212          Monaco\n",
      "1            219         Croazia\n",
      "2            226         Romania\n",
      "3            238       Danimarca\n",
      "4            246        Lituania\n",
      "..           ...             ...\n",
      "229          633      Seychelles\n",
      "230          643       Mozambico\n",
      "231          653       Swaziland\n",
      "232          716            Perù\n",
      "233          730            Cile\n",
      "\n",
      "[234 rows x 2 columns]\n",
      "           MONTH       DOW  ORIGIN  DESTINATION CUST_CLASS  COD_COUNTRY  \\\n",
      "0          Marzo  Domenica     108          300    visitor          222   \n",
      "1         Maggio    Lunedì     300          101    visitor          222   \n",
      "2       Febbraio    Sabato     108          207    visitor          222   \n",
      "3         Aprile   Venerdì     109          121   resident          222   \n",
      "4         Maggio   Giovedì     300          120    visitor          222   \n",
      "...          ...       ...     ...          ...        ...          ...   \n",
      "193496  Febbraio   Martedì     205          120      Altro         -999   \n",
      "193497     Marzo   Giovedì     214          115      Altro         -999   \n",
      "193498  Febbraio   Giovedì     124          121      Altro         -999   \n",
      "193499    Aprile  Domenica     110          300    visitor          222   \n",
      "193500    Aprile    Lunedì     124          300    visitor          222   \n",
      "\n",
      "        COD_PRO  PRO_COM  FLOW  \n",
      "0          28.0   -999.0   493  \n",
      "1          93.0   -999.0    58  \n",
      "2          28.0   -999.0    39  \n",
      "3          28.0  28060.0   106  \n",
      "4          28.0  28103.0   136  \n",
      "...         ...      ...   ...  \n",
      "193496   -999.0   -999.0    32  \n",
      "193497   -999.0   -999.0    32  \n",
      "193498   -999.0   -999.0    40  \n",
      "193499     28.0  28086.0    36  \n",
      "193500     69.0   -999.0    32  \n",
      "\n",
      "[193501 rows x 9 columns]\n",
      "             DOW CUST_CLASS  COD_COUNTRY  COD_PRO   PRO_COM  VISITORS\n",
      "0      Mercoledì    visitor        222.0     35.0   35033.0       968\n",
      "1         Lunedì    visitor        222.0     22.0   22098.0        64\n",
      "2       Domenica    visitor        222.0     52.0   52032.0       516\n",
      "3        Giovedì    visitor        222.0    108.0  108009.0       128\n",
      "4        Giovedì    visitor        222.0     29.0   29048.0       512\n",
      "...          ...        ...          ...      ...       ...       ...\n",
      "12840  Mercoledì  foreigner        259.0      NaN       NaN       176\n",
      "12841     Sabato  foreigner        602.0      NaN       NaN       164\n",
      "12842    Giovedì  foreigner        732.0      NaN       NaN        80\n",
      "12843    Giovedì  foreigner        297.0      NaN       NaN        80\n",
      "12844   Domenica  foreigner        748.0      NaN       NaN        60\n",
      "\n",
      "[12845 rows x 6 columns]\n"
     ]
    }
   ],
   "source": [
    "file_name1 = \"codici_istat_comune.csv\"\n",
    "file_name2 = \"codici_istat_provincia.csv\"\n",
    "file_name3 = \"codici_nazioni.csv\"\n",
    "file_name4 = \"day_od.csv\"\n",
    "file_name5 = \"distinct_users_day.csv\"\n",
    "\n",
    "# Extracting data from the '.csv' files and removing the encoding\n",
    "data_comune = pd.read_csv(file_name1, encoding='latin1')\n",
    "data_provincia = pd.read_csv(file_name2, encoding='latin1')\n",
    "data_day = pd.read_csv(file_name4, encoding='UTF-16BE')\n",
    "data_users = pd.read_csv(file_name5, encoding='latin1')\n",
    "\n",
    "# Extracting Data from the codici_nazioni.csv file, by removing the BOM.\n",
    "table = pd.read_csv('codici_nazioni.csv', sep=',', encoding='unicode_escape')\n",
    "regex = '([a-zA-Z0-9_-])' # You can add any other character you wish to keep\n",
    "data_nazioni = table.rename(columns=dict((col, ''.join(re.findall(regex, col))) for col in table.columns))\n",
    " \n",
    "print(data_comune)\n",
    "print(data_provincia)\n",
    "print(data_nazioni)\n",
    "print(data_day)\n",
    "print(data_users)"
   ]
  },
  {
   "cell_type": "markdown",
   "metadata": {},
   "source": [
    "## Task 1.2 : Ranking Visitors from Other Countries"
   ]
  },
  {
   "cell_type": "code",
   "execution_count": 42,
   "metadata": {},
   "outputs": [
    {
     "name": "stdout",
     "output_type": "stream",
     "text": [
      "0        1\n",
      "1        2\n",
      "2        3\n",
      "3        4\n",
      "4        5\n",
      "      ... \n",
      "103     91\n",
      "104     92\n",
      "105     95\n",
      "106    111\n",
      "107   -999\n",
      "Name: COD_PRO, Length: 108, dtype: int64\n",
      "             DOW CUST_CLASS  COD_COUNTRY  COD_PRO  PRO_COM  VISITORS  \\\n",
      "12357  Mercoledì  foreigner        208.0      NaN      NaN     20312   \n",
      "12799   Domenica  foreigner        228.0      NaN      NaN     20264   \n",
      "12360     Lunedì  foreigner        208.0      NaN      NaN     19696   \n",
      "12798     Sabato  foreigner        228.0      NaN      NaN     18260   \n",
      "12355    Giovedì  foreigner        208.0      NaN      NaN     18164   \n",
      "...          ...        ...          ...      ...      ...       ...   \n",
      "12739    Giovedì  foreigner        401.0      NaN      NaN        32   \n",
      "12608    Giovedì  foreigner        295.0      NaN      NaN        32   \n",
      "12606    Venerdì  foreigner        295.0      NaN      NaN        32   \n",
      "12702     Lunedì  foreigner        419.0      NaN      NaN        32   \n",
      "12662    Giovedì  foreigner        605.0      NaN      NaN        32   \n",
      "\n",
      "      COUNTRY_NAME_IT  \n",
      "12357         Francia  \n",
      "12799        Svizzera  \n",
      "12360         Francia  \n",
      "12798        Svizzera  \n",
      "12355         Francia  \n",
      "...               ...  \n",
      "12739      Kazakistan  \n",
      "12608   Liechtenstein  \n",
      "12606   Liechtenstein  \n",
      "12702          Kuwait  \n",
      "12662         Tunisia  \n",
      "\n",
      "[516 rows x 7 columns]\n"
     ]
    }
   ],
   "source": [
    "#Creating DataFrames \n",
    "DF_users = pd.DataFrame(data_users).iloc[:12846]\n",
    "DF_nazioni = pd.DataFrame(data_nazioni).iloc[:235]\n",
    "DF_provincia = pd.DataFrame(data_provincia).iloc[:]\n",
    "DF_comune = pd.DataFrame(data_comune).iloc[:]\n",
    "DF_day = pd.DataFrame(data_day).iloc[:]\n",
    "\n",
    "#Merging and Accessing group of rows based on the column values or labels \n",
    "Merged = pd.merge(DF_users, DF_nazioni, on=\"COD_COUNTRY\") #on --> To join (in Database style) on this particular column \n",
    "Merged1 = pd.merge(DF_users, DF_provincia, on=\"COD_PRO\")\n",
    "show = Merged.loc[Merged['CUST_CLASS'] == 'foreigner'] # Accessing rows where the value of the column CUST_CLASS is 'foreigner'\n",
    "show_it_visitors = Merged1.loc[Merged1['CUST_CLASS'] == 'visitor'] # Accessing rows where the value of the column CUST_CLASS is 'visitor'\n",
    "\n",
    "cntry_cod = DF_nazioni.loc[:, \"COD_COUNTRY\"] # Extracting a single column of Country codes\n",
    "pro_cod = DF_provincia.loc[:, \"COD_PRO\"] # Extracting a single column of Country codes\n",
    "print(pro_cod)\n",
    "\n",
    "a = show.sort_values(by=\"VISITORS\", ascending=False) #Sorting the values by number of visitors (greatest to smallest)\n",
    "b = show_it_visitors.sort_values(by=\"VISITORS\", ascending=False) #Sorting the values by number of visitors (greatest to smallest)\n",
    "print(a)"
   ]
  },
  {
   "cell_type": "code",
   "execution_count": 42,
   "metadata": {
    "scrolled": false
   },
   "outputs": [
    {
     "name": "stdout",
     "output_type": "stream",
     "text": [
      "    COUNTRY_CODE                  COUNTRY TOTAL_VISITORS\n",
      "171          208                [Francia]         129672\n",
      "174          228               [Svizzera]         116884\n",
      "55           262               [Germania]         109176\n",
      "40           460                   [Cina]         107796\n",
      "25           232                [Austria]          96776\n",
      "172          214                 [Spagna]          71872\n",
      "116          204            [Paesi Bassi]          70432\n",
      "206          310  [Stati Uniti d'America]          64160\n",
      "2            226                [Romania]          59012\n",
      "113          234          [Gran Bretagna]          46180\n",
      "5            250                 [Russia]          42424\n",
      "79           216               [Ungheria]          30344\n",
      "1            219                [Croazia]          26504\n",
      "123          293               [Slovenia]          25760\n",
      "170          206                 [Belgio]          25380\n",
      "29           284               [Bulgaria]          21472\n",
      "147          260                [Polonia]          18580\n",
      "39           440               [Giappone]          13032\n",
      "119          230        [Repubblica Ceca]          13004\n",
      "153          334                [Messico]          12552\n"
     ]
    }
   ],
   "source": [
    "foreign_visitors = pd.DataFrame(columns=['COUNTRY_CODE', 'COUNTRY', 'TOTAL_VISITORS',]) #Creating a new DataFrame\n",
    "visitors = 0 # initialising values\n",
    "x=0\n",
    "for x in cntry_cod.index:    \n",
    "    visitors = 0\n",
    "    for y in a.index:\n",
    "        if cntry_cod[x] == a['COD_COUNTRY'][y]: #sorting through and adding the total number of visitors for each country\n",
    "            p = a['COD_COUNTRY'][y]\n",
    "            #print(p)\n",
    "            visitors = visitors + a['VISITORS'][y]  \n",
    "            name = a.query(\"COD_COUNTRY== @p\")[\"COUNTRY_NAME_IT\"].unique() #storing the name of the country to add in dataframe later\n",
    "            #print(name)            \n",
    "        else: \n",
    "            continue # Moving on to the next iteration\n",
    "      \n",
    "    row = {'COUNTRY_CODE':cntry_cod[x], 'TOTAL_VISITORS': visitors, 'COUNTRY': name}#adding values in the dataframe row by row\n",
    "    new_df = pd.DataFrame([row])\n",
    "    foreign_visitors = pd.concat([foreign_visitors, new_df], axis=0, ignore_index=True)\n",
    "    Foreign_visitors = foreign_visitors.sort_values(by=\"TOTAL_VISITORS\", ascending=False).iloc[:20] #Sorting values (Descending) \n",
    "print(Foreign_visitors)"
   ]
  },
  {
   "cell_type": "markdown",
   "metadata": {},
   "source": [
    "## Task 1.2 : Ranking Italian Visitors from Other Provinces "
   ]
  },
  {
   "cell_type": "code",
   "execution_count": 37,
   "metadata": {
    "scrolled": true
   },
   "outputs": [
    {
     "name": "stdout",
     "output_type": "stream",
     "text": [
      "   PRO_CODE TOTAL_VISITORS            PROVINCE_NAME\n",
      "28       28        1932696                 [Padova]\n",
      "27       27         620236                [Venezia]\n",
      "24       24         431952                [Vicenza]\n",
      "26       26         317224                [Treviso]\n",
      "23       23         181604                 [Verona]\n",
      "12       15         177380                 [Milano]\n",
      "29       29         163464                 [Rovigo]\n",
      "66       58          95056                   [Roma]\n",
      "42       37          72980                [Bologna]\n",
      "22       22          65148                 [Trento]\n",
      "43       38          53832                [Ferrara]\n",
      "30       30          47784                  [Udine]\n",
      "25       25          46992                [Belluno]\n",
      "0         1          39068                 [Torino]\n",
      "33       93          38272              [Pordenone]\n",
      "14       17          34416                [Brescia]\n",
      "41       36          30928                 [Modena]\n",
      "20      108          30648  [Monza e della Brianza]\n",
      "17       20          30212                [Mantova]\n",
      "21       21          28036          [Bolzano/Bozen]\n",
      "50       48          27496                [Firenze]\n"
     ]
    }
   ],
   "source": [
    "#Creating a new DataFrame\n",
    "italian_visitors = pd.DataFrame(columns=['PRO_CODE','TOTAL_VISITORS','PROVINCE_NAME']) \n",
    "\n",
    "#initialising the values of the variables \n",
    "it_visitors = 0\n",
    "x=0\n",
    "#Sorting through the DataFrame 'b' to determine the countries with maximum number of visitors \n",
    "for x in pro_cod.index:    \n",
    "    it_visitors = 0\n",
    "    for y in b.index:\n",
    "        if pro_cod[x] == b['COD_PRO'][y]: #sorting through and adding the total number of visitors for a particular comune\n",
    "            p1 = b['COD_PRO'][y]\n",
    "            it_visitors = it_visitors + b['VISITORS'][y]  \n",
    "            name = Merged1.query(\"COD_PRO== @p1\")[\"PROVINCIA\"].unique()\n",
    "        else: \n",
    "            continue # Moving on to the next iteration\n",
    "            \n",
    "    # Adding the details of the top 20 Comune of Italy that contibute to the highest number of visitors in Padova  \n",
    "    row1 = {'PRO_CODE':pro_cod[x], 'TOTAL_VISITORS': it_visitors, 'PROVINCE_NAME': name}#adding values in the dataframe row by row    \n",
    "    new_df = pd.DataFrame([row1])\n",
    "    italian_visitors = pd.concat([italian_visitors, new_df], axis=0, ignore_index=True)\n",
    "    Italian_visitors = italian_visitors.sort_values(by=\"TOTAL_VISITORS\", ascending=False).iloc[:21]    \n",
    "print(Italian_visitors)"
   ]
  },
  {
   "cell_type": "markdown",
   "metadata": {},
   "source": [
    "# Task 2 : Study of Visitor Fluxes"
   ]
  },
  {
   "cell_type": "markdown",
   "metadata": {},
   "source": [
    "## Task 2.0 : Preparation of data for Finding the flux\n",
    "To understand the flux, we will have to define a radius in which we will find all the provinces and cities from which users visit Padova"
   ]
  },
  {
   "cell_type": "code",
   "execution_count": 5,
   "metadata": {},
   "outputs": [
    {
     "name": "stdout",
     "output_type": "stream",
     "text": [
      "[   1    2    3    4    5    6    7    8    9   10   11   12   13   14\n",
      "   15   16   17   18   19   20 -999]\n"
     ]
    }
   ],
   "source": [
    "#Creating Dataframes of the extracted data\n",
    "DF_users = pd.DataFrame(data_users).iloc[:12846]\n",
    "DF_provincia = pd.DataFrame(data_provincia).iloc[:]\n",
    "\n",
    "#Merging DataFrames \n",
    "Merged2 = pd.merge(DF_users, DF_provincia, on=\"COD_PRO\")\n",
    "show_pd_visitors = Merged2.loc[Merged2['CUST_CLASS'] == 'visitor']\n",
    "\n",
    "#extracting a column from the dataframe for iterating using for loops\n",
    "reg_cod = DF_provincia.loc[:, \"COD_REG\"].iloc[:].unique()\n",
    "print(reg_cod) \n",
    "\n",
    "c = show_pd_visitors.sort_values(by=\"VISITORS\", ascending=False)"
   ]
  },
  {
   "cell_type": "code",
   "execution_count": 6,
   "metadata": {},
   "outputs": [],
   "source": [
    "reg_code = {'COD_REG': [3, 4, 5, 6, 8], 'REGION_NAME': ['LOMBARDY', 'TRENTINO-ALTO ADIGE', 'VENETO', 'FRUILI-VENEZIA-GUILIA', 'EMILIA-ROMAGNA']}\n",
    "regional_cod = pd.DataFrame(data=reg_code).iloc[:]"
   ]
  },
  {
   "cell_type": "markdown",
   "metadata": {},
   "source": [
    "## Task 2.1 : Finding The Flux From Nearby Regions (Mid-Range)\n",
    "Here, we are focusing on the bordering Regions of Padova(Veneto). The flux is studied for 5 regions including Veneto. \n",
    "These are, Lombardy, Emilia-Romagna, Trentino-Alto Adige, and Fruili-Venezia-Guilia."
   ]
  },
  {
   "cell_type": "code",
   "execution_count": 7,
   "metadata": {},
   "outputs": [
    {
     "name": "stdout",
     "output_type": "stream",
     "text": [
      "  COD_REG            REGION_NAME TOTAL_VISITORS\n",
      "2       5                 VENETO        3694168\n",
      "0       3               LOMBARDY         360480\n",
      "4       8         EMILIA-ROMAGNA         233648\n",
      "3       6  FRUILI-VENEZIA-GUILIA         111564\n",
      "1       4    TRENTINO-ALTO ADIGE          93184\n"
     ]
    }
   ],
   "source": [
    "#Creating a new DataFrame\n",
    "padova_visitors = pd.DataFrame(columns=['COD_REG', 'TOTAL_VISITORS']) \n",
    "\n",
    "#Initialising Values \n",
    "pd_visitors = 0 \n",
    "x=0\n",
    "\n",
    "#Sorting through the DataFrame 'c' to determine the countries with maximum number of visitors \n",
    "for x in reg_cod: \n",
    "    pd_visitors = 0\n",
    "    for y in c.index:\n",
    "        if (x == c['COD_REG'][y]) and (c['COD_REG'][y] in (3,4,5,6,8)): #sorting through and adding the total number of visitors for a particular Regione\n",
    "            p1 = b['COD_PRO'][y]         \n",
    "            p1 = c['COD_REG'][y] \n",
    "            a=p1\n",
    "            #print(a)\n",
    "            pd_visitors = pd_visitors + c['VISITORS'][y]  \n",
    "            #print(Merged2.query(\"COD_PRO == @p2\")[\"PROVINCIA\"].unique())  \n",
    "            reg_code = p1\n",
    "        else: \n",
    "            continue\n",
    "    # Adding the details of the 5 regions of Italy that contibute to the highest number of visitors in Padova  \n",
    "    row1 = {'COD_REG':reg_code , 'TOTAL_VISITORS': pd_visitors}    \n",
    "    new_df = pd.DataFrame([row1])\n",
    "    padova_visitors = pd.concat([padova_visitors, new_df], axis=0, ignore_index=True) #Adding values to the dataFrame row by row\n",
    "    Padova_visitors = padova_visitors.sort_values(by=\"TOTAL_VISITORS\", ascending=False).iloc[:5]  \n",
    "Padova_visitors = pd.merge(regional_cod, Padova_visitors, on=\"COD_REG\").sort_values(by=\"TOTAL_VISITORS\", ascending=False)\n",
    "print(Padova_visitors)"
   ]
  },
  {
   "cell_type": "markdown",
   "metadata": {},
   "source": [
    "## Task 2.2 : Finding The Flux From The Provinces in The Given Three Directions \n",
    "### Data preparation"
   ]
  },
  {
   "cell_type": "code",
   "execution_count": 8,
   "metadata": {
    "scrolled": true
   },
   "outputs": [
    {
     "name": "stdout",
     "output_type": "stream",
     "text": [
      "              OR_DEST  OR_REG  OR_PROV  OR_PROCOM  DEST_REG  DEST_PROV  \\\n",
      "442344  28060 - 28060       5       28      28060         5         28   \n",
      "442346  28060 - 28072       5       28      28060         5         28   \n",
      "442356  28060 - 28058       5       28      28060         5         28   \n",
      "442364  28060 - 28054       5       28      28060         5         28   \n",
      "442351  28060 - 28045       5       28      28060         5         28   \n",
      "...               ...     ...      ...        ...       ...        ...   \n",
      "450599  28060 - 81009       5       28      28060        19         81   \n",
      "450590  28060 - 81012       5       28      28060        19         81   \n",
      "450594  28060 - 81024       5       28      28060        19         81   \n",
      "450601  28060 - 81014       5       28      28060        19         81   \n",
      "450602  28060 - 84020       5       28      28060        19         84   \n",
      "\n",
      "        DEST_PROCOM  TEP_TOT       KM_TOT  TTP_TOT  \n",
      "442344        28060        0     0.000000        0  \n",
      "442346        28072       17     8.000000        9  \n",
      "442356        28058       20    10.400000       13  \n",
      "442364        28054       23    11.100000       12  \n",
      "442351        28045       19    11.500000       13  \n",
      "...             ...      ...          ...      ...  \n",
      "450599        81009      835  1517.099976      799  \n",
      "450590        81012      820  1518.900024      786  \n",
      "450594        81024      824  1528.199951      792  \n",
      "450601        81014      950  1628.199951      916  \n",
      "450602        84020     1079  1675.300049     1043  \n",
      "\n",
      "[7903 rows x 10 columns]\n"
     ]
    }
   ],
   "source": [
    "file_name6 = \"R05_PD.csv\"\n",
    "\n",
    "#Extracting Data for Distance between Padova and others Provinces and Comune \n",
    "table = pd.read_csv('R05_PD.csv', sep=';', encoding='unicode_escape')\n",
    "regex = '([a-zA-Z0-9_-])' # You can add any other character you wish to keep\n",
    "data_PD = table.rename(columns=dict((col, ''.join(re.findall(regex, col))) for col in table.columns))\n",
    "DF_pd = pd.DataFrame(data_PD).iloc[:]\n",
    "\n",
    "\n",
    "#28060 is the Comune Code of Padova. So essentially, we are trying to get the distance of other regions to Padova using it.\n",
    "data_PD = DF_pd.loc[DF_pd['OR_PROCOM'] == 28060].replace(',', '.', regex=True).iloc[:] \n",
    "data_PD[\"KM_TOT\"] = pd.to_numeric(data_PD[\"KM_TOT\"], downcast=\"float\")\n",
    "#print(data_PD.dtypes) \n",
    "data_PD = data_PD.sort_values(by=\"KM_TOT\", ascending=True).iloc[:]\n",
    "#data_PD.to_csv('R05_PD_extracted.csv', index=False)\n",
    "print(data_PD)"
   ]
  },
  {
   "cell_type": "markdown",
   "metadata": {},
   "source": [
    "### Finding Provinces in the Three Directions Using GeoJSON files (given above for reference).\n",
    "This data was found using this file and Wikipedia (for confirmation).\n",
    "\n",
    "#### Provinces along A4 (North-East) Autostrada are: Venice, Treviso, Udine, Gorizia, Trieste\n",
    "#### Provinces along A13(South) Autostrada are: Rovigo, Ferrara, Bologna\n",
    "#### Provinces along A4 (West) Autostrada are: Torino, Vercelli, Novara, Milano, Bergamo, Brescia, Verona, Vicenza, Monza-Brianza\n",
    "\n",
    "\n",
    "To find the flux on Weekdays and Weekends, we should separate the days of the week from the Dataframe 'b'"
   ]
  },
  {
   "cell_type": "code",
   "execution_count": 85,
   "metadata": {},
   "outputs": [
    {
     "name": "stdout",
     "output_type": "stream",
     "text": [
      "             DOW CUST_CLASS  COD_COUNTRY  COD_PRO  PRO_COM  VISITORS  COD_REG  \\\n",
      "1531     Venerdì    visitor        222.0     27.0  27042.0     20608        5   \n",
      "1297   Mercoledì    visitor        222.0     27.0  27042.0     20572        5   \n",
      "1433     Giovedì    visitor        222.0     27.0  27042.0     19368        5   \n",
      "1338     Martedì    visitor        222.0     27.0  27042.0     19236        5   \n",
      "1460      Lunedì    visitor        222.0     27.0  27042.0     18644        5   \n",
      "...          ...        ...          ...      ...      ...       ...      ...   \n",
      "8913     Martedì    visitor        222.0     30.0  30056.0        32        6   \n",
      "8907      Lunedì    visitor        222.0     30.0  30133.0        32        6   \n",
      "3324     Venerdì    visitor        222.0     26.0  26018.0        32        5   \n",
      "10254     Lunedì    visitor        222.0     32.0  32003.0        32        6   \n",
      "1452     Venerdì    visitor        222.0     27.0  27030.0        32        5   \n",
      "\n",
      "      PROVINCIA PROV_SIGLA  \n",
      "1531    Venezia         VE  \n",
      "1297    Venezia         VE  \n",
      "1433    Venezia         VE  \n",
      "1338    Venezia         VE  \n",
      "1460    Venezia         VE  \n",
      "...         ...        ...  \n",
      "8913      Udine         UD  \n",
      "8907      Udine         UD  \n",
      "3324    Treviso         TV  \n",
      "10254   Trieste         TS  \n",
      "1452    Venezia         VE  \n",
      "\n",
      "[992 rows x 9 columns]\n",
      "            DOW CUST_CLASS  COD_COUNTRY  COD_PRO  PRO_COM  VISITORS  COD_REG  \\\n",
      "1329     Sabato    visitor        222.0     27.0  27042.0     21840        5   \n",
      "1401   Domenica    visitor        222.0     27.0  27042.0     20332        5   \n",
      "3607     Sabato    visitor        222.0     26.0  26086.0      6112        5   \n",
      "3237   Domenica    visitor        222.0     26.0  26086.0      5824        5   \n",
      "1343     Sabato    visitor        222.0     27.0  27028.0      5552        5   \n",
      "...         ...        ...          ...      ...      ...       ...      ...   \n",
      "9079     Sabato    visitor        222.0     30.0  30082.0        32        6   \n",
      "9100     Sabato    visitor        222.0     30.0  30038.0        32        6   \n",
      "3532   Domenica    visitor        222.0     26.0  26067.0        32        5   \n",
      "10259  Domenica    visitor        222.0     32.0  32004.0        32        6   \n",
      "10261    Sabato    visitor        222.0     32.0  32004.0        32        6   \n",
      "\n",
      "      PROVINCIA PROV_SIGLA  \n",
      "1329    Venezia         VE  \n",
      "1401    Venezia         VE  \n",
      "3607    Treviso         TV  \n",
      "3237    Treviso         TV  \n",
      "1343    Venezia         VE  \n",
      "...         ...        ...  \n",
      "9079      Udine         UD  \n",
      "9100      Udine         UD  \n",
      "3532    Treviso         TV  \n",
      "10259   Trieste         TS  \n",
      "10261   Trieste         TS  \n",
      "\n",
      "[393 rows x 9 columns]\n"
     ]
    }
   ],
   "source": [
    "#Preparing Data for raising queries and saving the results\n",
    "weekday = [\"Lunedì\", \"Martedì\", \"Mercoledì\", \"Giovedì\", \"Venerdì\"]\n",
    "weekend = [\"Sabato\", \"Domenica\"]\n",
    "\n",
    "#trying a new method to extract the useful data for finding the Visitor Flux of Padova by querying \n",
    "b_weekdays = (b.query('DOW == [\"Lunedì\", \"Martedì\", \"Mercoledì\", \"Giovedì\", \"Venerdì\"]'))\n",
    "b_weekends = b.query('DOW == [\"Sabato\", \"Domenica\"]')\n",
    "\n",
    "#Query for other useful data \n",
    "weekend_flux_a4NE = b_weekends.query('PROVINCIA == [\"Venezia\", \"Treviso\", \"Udine\", \"Gorizia\", \"Trieste\"]')\n",
    "weekday_flux_a4NE = b_weekdays.query('PROVINCIA == [\"Venezia\", \"Treviso\", \"Udine\", \"Gorizia\", \"Trieste\"]')\n",
    "weekend_flux_a13S = b_weekends.query('PROVINCIA == [\"Rovigo\", \"Ferrara\", \"Bologna\"]')\n",
    "weekday_flux_a13S = b_weekdays.query('PROVINCIA == [\"Rovigo\", \"Ferrara\", \"Bologna\"]')\n",
    "weekend_flux_a4We = b_weekends.query('PROVINCIA == [\"Torino\", \"Vercelli\", \"Novara\", \"Milano\", \"Bergamo\", \"Brescia\", \"Verona\", \"Vicenza\", \"Monza e della Brianza\"]')\n",
    "weekday_flux_a4We = b_weekdays.query('PROVINCIA == [\"Torino\", \"Vercelli\", \"Novara\", \"Milano\", \"Bergamo\", \"Brescia\", \"Verona\", \"Vicenza\", \"Monza e della Brianza\"]')\n",
    "\n",
    "#Seeing the result of queries\n",
    "print(weekday_flux_a4NE)\n",
    "print(weekend_flux_a4NE)\n",
    "#print(b_weekdays)\n",
    "#print(b_weekends)"
   ]
  },
  {
   "cell_type": "code",
   "execution_count": 87,
   "metadata": {},
   "outputs": [],
   "source": [
    "#Creating a new DataFrame\n",
    "padova_visitors1 = pd.DataFrame(columns=['HIGHWAY', 'TOTAL_VISITORS','DAY_TYPE'])"
   ]
  },
  {
   "cell_type": "markdown",
   "metadata": {},
   "source": [
    "### Calculating the total number of Visitor Flux through Different highways and adding these values to the above Dataframe."
   ]
  },
  {
   "cell_type": "code",
   "execution_count": 88,
   "metadata": {},
   "outputs": [
    {
     "name": "stdout",
     "output_type": "stream",
     "text": [
      "Total Number of Weekend Visitors through A4 Venezia-Trieste Highway =  298896\n"
     ]
    }
   ],
   "source": [
    "pd_WE_visitors = 0\n",
    "for x in weekend_flux_a4NE.index :\n",
    "    pd_WE_visitors = pd_WE_visitors + weekend_flux_a4NE['VISITORS'][x] \n",
    "    \n",
    "pd_WE_visitors_a4NE = pd_WE_visitors    \n",
    "row1 = {'HIGHWAY': \"A4 Venezia-Trieste\" , 'TOTAL_VISITORS': pd_WE_visitors_a4NE,'DAY_TYPE':\"WEEKEND\" }\n",
    "new_df = pd.DataFrame([row1])\n",
    "padova_visitors1 = pd.concat([padova_visitors1, new_df], axis=0, ignore_index=True)\n",
    "\n",
    "print(\"Total Number of Weekend Visitors through A4 Venezia-Trieste Highway = \",  pd_WE_visitors_a4NE)"
   ]
  },
  {
   "cell_type": "code",
   "execution_count": 89,
   "metadata": {},
   "outputs": [
    {
     "name": "stdout",
     "output_type": "stream",
     "text": [
      "Total Number of Weekday Visitors through A4 Venezia-Trieste Highway =  711856\n"
     ]
    }
   ],
   "source": [
    "pd_WD_visitors = 0\n",
    "for x in weekday_flux_a4NE.index :\n",
    "    pd_WD_visitors = pd_WD_visitors + weekday_flux_a4NE['VISITORS'][x] \n",
    "    \n",
    "pd_WD_visitors_a4NE = pd_WD_visitors    \n",
    "row1 = {'HIGHWAY': \"A4 Venezia-Trieste\" , 'TOTAL_VISITORS': pd_WD_visitors_a4NE, 'DAY_TYPE':\"WEEKDAY\"}\n",
    "new_df = pd.DataFrame([row1])\n",
    "padova_visitors1 = pd.concat([padova_visitors1, new_df], axis=0, ignore_index=True)\n",
    "print(\"Total Number of Weekday Visitors through A4 Venezia-Trieste Highway = \",  pd_WD_visitors_a4NE)"
   ]
  },
  {
   "cell_type": "code",
   "execution_count": 90,
   "metadata": {},
   "outputs": [
    {
     "name": "stdout",
     "output_type": "stream",
     "text": [
      "Total Number of Weekday Visitors through A13 Bologna-Padova Highway =  100960\n"
     ]
    }
   ],
   "source": [
    "pd_WE_visitors = 0\n",
    "for x in weekend_flux_a13S.index :\n",
    "    pd_WE_visitors = pd_WE_visitors + weekend_flux_a13S['VISITORS'][x] \n",
    "    \n",
    "pd_WE_visitors_a13S =  pd_WE_visitors\n",
    "row1 = {'HIGHWAY': \"A13 Bologna-Padova\" , 'TOTAL_VISITORS': pd_WE_visitors_a13S,'DAY_TYPE':\"WEEKEND\" }\n",
    "new_df = pd.DataFrame([row1])\n",
    "padova_visitors1 = pd.concat([padova_visitors1, new_df], axis=0, ignore_index=True)\n",
    "print(\"Total Number of Weekday Visitors through A13 Bologna-Padova Highway = \",  pd_WE_visitors_a13S)"
   ]
  },
  {
   "cell_type": "code",
   "execution_count": 91,
   "metadata": {},
   "outputs": [
    {
     "name": "stdout",
     "output_type": "stream",
     "text": [
      "Total Number of Weekday Visitors through A13 Bologna-Padova Highway =  189316\n"
     ]
    }
   ],
   "source": [
    "pd_WD_visitors = 0\n",
    "for x in weekday_flux_a13S.index :\n",
    "    pd_WD_visitors = pd_WD_visitors + weekday_flux_a13S['VISITORS'][x] \n",
    "    \n",
    "pd_WD_visitors_a13S =  pd_WD_visitors \n",
    "row1 = {'HIGHWAY': \"A13 Bologna-Padova\", 'TOTAL_VISITORS': pd_WD_visitors_a13S, 'DAY_TYPE':\"WEEKDAY\" }\n",
    "new_df = pd.DataFrame([row1])\n",
    "padova_visitors1 = pd.concat([padova_visitors1, new_df], axis=0, ignore_index=True)\n",
    "print(\"Total Number of Weekday Visitors through A13 Bologna-Padova Highway = \",  pd_WD_visitors_a13S)"
   ]
  },
  {
   "cell_type": "code",
   "execution_count": 92,
   "metadata": {},
   "outputs": [
    {
     "name": "stdout",
     "output_type": "stream",
     "text": [
      "Total Number of Weekday Visitors through A4 Milano-Torino Highway =  287152\n"
     ]
    }
   ],
   "source": [
    "pd_WE_visitors = 0\n",
    "for x in weekend_flux_a4We.index :\n",
    "    pd_WE_visitors = pd_WE_visitors + weekend_flux_a4We['VISITORS'][x] \n",
    "    \n",
    "pd_WE_visitors_a4We = pd_WE_visitors  \n",
    "row1 = {'HIGHWAY': \"A4 Milano-Torino\", 'TOTAL_VISITORS': pd_WE_visitors_a4We,'DAY_TYPE':\"WEEKEND\" }\n",
    "new_df = pd.DataFrame([row1])\n",
    "padova_visitors1 = pd.concat([padova_visitors1, new_df], axis=0, ignore_index=True)\n",
    "print(\"Total Number of Weekday Visitors through A4 Milano-Torino Highway = \",  pd_WE_visitors_a4We)"
   ]
  },
  {
   "cell_type": "code",
   "execution_count": 93,
   "metadata": {
    "scrolled": true
   },
   "outputs": [
    {
     "name": "stdout",
     "output_type": "stream",
     "text": [
      "Total Number of Weekday Visitors through A4 Milano-Torino Highway =  644384\n"
     ]
    }
   ],
   "source": [
    "pd_WD_visitors = 0\n",
    "for x in weekday_flux_a4We.index :\n",
    "    pd_WD_visitors = pd_WD_visitors + weekday_flux_a4We['VISITORS'][x] \n",
    "pd_WD_visitors_a4We = pd_WD_visitors\n",
    "row1 = {'HIGHWAY': \"A4 Milano-Torino\", 'TOTAL_VISITORS': pd_WD_visitors_a4We, 'DAY_TYPE':\"WEEKDAY\" }\n",
    "new_df = pd.DataFrame([row1])\n",
    "padova_visitors1 = pd.concat([padova_visitors1, new_df], axis=0, ignore_index=True)\n",
    "print(\"Total Number of Weekday Visitors through A4 Milano-Torino Highway = \",  pd_WD_visitors_a4We)"
   ]
  },
  {
   "cell_type": "code",
   "execution_count": 94,
   "metadata": {},
   "outputs": [
    {
     "name": "stdout",
     "output_type": "stream",
     "text": [
      "              HIGHWAY TOTAL_VISITORS DAY_TYPE\n",
      "1  A4 Venezia-Trieste         711856  WEEKDAY\n",
      "5    A4 Milano-Torino         644384  WEEKDAY\n",
      "0  A4 Venezia-Trieste         298896  WEEKEND\n",
      "4    A4 Milano-Torino         287152  WEEKEND\n",
      "3  A13 Bologna-Padova         189316  WEEKDAY\n",
      "2  A13 Bologna-Padova         100960  WEEKEND\n"
     ]
    }
   ],
   "source": [
    "Padova_visitors1 = padova_visitors1.sort_values(by=\"TOTAL_VISITORS\", ascending=False).iloc[:6]  \n",
    "print(Padova_visitors1)#DataFrame with results for Weekday and Weekend Flux"
   ]
  },
  {
   "cell_type": "markdown",
   "metadata": {},
   "source": [
    "### Conclusion : The Highway that should be prioritised is A4 (NE) Venezia-Trieste \n",
    "The A4 (NE) Venezia-Trieste, pulls the most crowds to and from Padova on Weekday and Weekends. "
   ]
  },
  {
   "cell_type": "markdown",
   "metadata": {},
   "source": [
    "# Task 3 \n"
   ]
  },
  {
   "cell_type": "markdown",
   "metadata": {},
   "source": [
    "## Task 3.1:  Plot of Visitors v/s Distance of the Provinces of Origin\n",
    "To plot the distribution of the number of visitors by the distance of the province of origin. Determine which kind of function should be used to describe the distribution.\n",
    "\n"
   ]
  },
  {
   "cell_type": "code",
   "execution_count": 41,
   "metadata": {},
   "outputs": [
    {
     "name": "stdout",
     "output_type": "stream",
     "text": [
      "       COD_PRO  PRO_COM         COMUNE     DOW  VISITORS  COD_REG  \\\n",
      "11570      102   102047  Vibo Valentia  Sabato        48       18   \n",
      "7692         8     8031        Imperia  Sabato        48        7   \n",
      "11810       88    88009         Ragusa  Sabato        48       19   \n",
      "11561      101   101010        Crotone  Sabato        52       18   \n",
      "11661       85    85004  Caltanissetta  Sabato        56       19   \n",
      "...        ...      ...            ...     ...       ...      ...   \n",
      "6953        29    29041         Rovigo  Sabato      9972        5   \n",
      "10110       58    58091           Roma  Sabato     12008       12   \n",
      "4898        24    24116        Vicenza  Sabato     14384        5   \n",
      "1288        15    15146         Milano  Sabato     18176        3   \n",
      "6064        27    27042        Venezia  Sabato     21840        5   \n",
      "\n",
      "           PROVINCIA PROV_SIGLA         OR_DEST  DEST_PROV  DEST_PROCOM  \\\n",
      "11570  Vibo Valentia         VV  28060 - 102047        102       102047   \n",
      "7692         Imperia         IM    28060 - 8031          8         8031   \n",
      "11810         Ragusa         RG   28060 - 88009         88        88009   \n",
      "11561        Crotone         KR  28060 - 101010        101       101010   \n",
      "11661  Caltanissetta         CL   28060 - 85004         85        85004   \n",
      "...              ...        ...             ...        ...          ...   \n",
      "6953          Rovigo         RO   28060 - 29041         29        29041   \n",
      "10110           Roma         RM   28060 - 58091         58        58091   \n",
      "4898         Vicenza         VI   28060 - 24116         24        24116   \n",
      "1288          Milano         MI   28060 - 15146         15        15146   \n",
      "6064         Venezia         VE   28060 - 27042         27        27042   \n",
      "\n",
      "       TEP_TOT       KM_TOT  TTP_TOT  \n",
      "11570      564  1078.400024      548  \n",
      "7692       256   463.700012      240  \n",
      "11810      753  1365.599976      720  \n",
      "11561      600  1095.400024      583  \n",
      "11661      742  1369.099976      707  \n",
      "...        ...          ...      ...  \n",
      "6953        40    46.200001       32  \n",
      "10110      289   498.000000      262  \n",
      "4898        37    37.099998       27  \n",
      "1288       148   234.100006      129  \n",
      "6064        48    51.700001       38  \n",
      "\n",
      "[104 rows x 14 columns]\n"
     ]
    },
    {
     "name": "stderr",
     "output_type": "stream",
     "text": [
      "C:\\Users\\Mahe\\AppData\\Local\\Temp\\ipykernel_2516\\2994693507.py:4: SettingWithCopyWarning: \n",
      "A value is trying to be set on a copy of a slice from a DataFrame\n",
      "\n",
      "See the caveats in the documentation: https://pandas.pydata.org/pandas-docs/stable/user_guide/indexing.html#returning-a-view-versus-a-copy\n",
      "  provincia.drop(['COD_COUNTRY','OR_PROV','OR_PROCOM','OR_REG','CUST_CLASS', 'DEST_REG', 'COMUNE_CAPOLUOGO'], axis=1, inplace=True)\n"
     ]
    }
   ],
   "source": [
    "#Extracting Useful Data to be able to plot it \n",
    "Padova_visitors = pd.merge(DF_comune, b, on= [\"COD_PRO\",\"PRO_COM\"])\n",
    "PD_visitors = pd.merge(Padova_visitors, data_PD,  left_on='PRO_COM', right_on='DEST_PROCOM')\n",
    "provincia = PD_visitors.loc[PD_visitors['COMUNE_CAPOLUOGO'] == 1]\n",
    "provincia.drop(['COD_COUNTRY','OR_PROV','OR_PROCOM','OR_REG','CUST_CLASS', 'DEST_REG', 'COMUNE_CAPOLUOGO'], axis=1, inplace=True)\n",
    "provincia = provincia.loc[provincia['DOW'] ==\"Sabato\"].sort_values(by=\"VISITORS\", ascending=True).iloc[:]\n",
    "\n",
    "#provincia['logarithm_base2'] = np.log2(provincia[\"VISITORS\"])\n",
    "\n",
    "print(provincia)"
   ]
  },
  {
   "cell_type": "code",
   "execution_count": 95,
   "metadata": {},
   "outputs": [
    {
     "data": {
      "text/plain": [
       "<seaborn.axisgrid.JointGrid at 0xaad0c0c0a0>"
      ]
     },
     "execution_count": 95,
     "metadata": {},
     "output_type": "execute_result"
    },
    {
     "data": {
      "image/png": "[encoded data removed]",
      "text/plain": [
       "<Figure size 640x480 with 1 Axes>"
      ]
     },
     "metadata": {},
     "output_type": "display_data"
    },
    {
     "data": {
      "image/png": "[encoded data removed]",
      "text/plain": [
       "<Figure size 600x600 with 3 Axes>"
      ]
     },
     "metadata": {},
     "output_type": "display_data"
    }
   ],
   "source": [
    "import seaborn as sns\n",
    "\n",
    "#Scatter-Plot\n",
    "sns.scatterplot(x = \"KM_TOT\", y=\"VISITORS\", data=provincia)\n",
    "\n",
    "#Joint Plot\n",
    "sns.jointplot(data=provincia, x = \"KM_TOT\", y=\"VISITORS\", kind=\"kde\", space=0, color=\"indigo\")"
   ]
  },
  {
   "cell_type": "code",
   "execution_count": 123,
   "metadata": {},
   "outputs": [
    {
     "data": {
      "image/png": "[encoded data removed]",
      "text/plain": [
       "<Figure size 1000x600 with 1 Axes>"
      ]
     },
     "metadata": {},
     "output_type": "display_data"
    }
   ],
   "source": [
    "#Normal Plot of x and y\n",
    "fig = plt.figure(figsize=(10, 6)) # create the figure and the axes\n",
    "plt.plot(x, y, 'r-')\n",
    "ax = fig.axes[0]\n",
    "ax.set_title('Distance V/s Visitors')\n",
    "ax.set_xlabel('Distance in km')\n",
    "ax.set_ylabel('No. of Visitors')\n",
    "fig.tight_layout()\n"
   ]
  },
  {
   "cell_type": "markdown",
   "metadata": {},
   "source": [
    "## Task 3.2 : Regression for No. of Visitors and Distances of the Province\n",
    "Assuming an analytic form can be used to describe the trend, create a regression or a fit to estimate the expected number of visitors by the distance of the province of origin and the corresponding uncertainties. Illustrate the difference between the resulting regression with respect to the numbers provided by the Vodafone monitoring, and highlight the five most striking discrepancies from the expectations."
   ]
  },
  {
   "cell_type": "code",
   "execution_count": 100,
   "metadata": {},
   "outputs": [
    {
     "name": "stdout",
     "output_type": "stream",
     "text": [
      "fitted alpha = 3111.55 +- 553.19\n",
      "fitted beta  = -3.23 +- 0.91\n",
      "covariance:\n",
      " [[  132860.08025896  -429082.97077931]\n",
      " [ -429082.97077931 12539233.1040724 ]]\n"
     ]
    },
    {
     "data": {
      "image/png": "[encoded data removed]",
      "text/plain": [
       "<Figure size 640x480 with 1 Axes>"
      ]
     },
     "metadata": {},
     "output_type": "display_data"
    }
   ],
   "source": [
    "from scipy import stats \n",
    "np.random.seed(123456)\n",
    "x = provincia[\"KM_TOT\"]\n",
    "y = provincia[\"VISITORS\"] \n",
    "\n",
    "# get the covariance. Numpy conveniently provides the np.cov() method\n",
    "cov = np.cov(x, y, ddof=2)\n",
    "b_hat = cov[0, 1] / cov[0, 0]\n",
    "a_hat = np.mean(y - b_hat * x)\n",
    "\n",
    "n = len(x)\n",
    "ssr = np.sum((y - (a_hat + b_hat * x))**2)\n",
    "sigma_b = np.sqrt( (ssr/(n-2)) / np.sum((x - np.mean(x))**2) )\n",
    "sigma_a = np.sqrt( sigma_b**2 * np.sum(x**2) / n )\n",
    "\n",
    "print(\"fitted alpha = %.2f +- %.2f\" % (a_hat, sigma_a))\n",
    "print(\"fitted beta  = %.2f +- %.2f\" % (b_hat, sigma_b))\n",
    "print(\"covariance:\\n\", cov)\n",
    "\n",
    "# plot resulting line\n",
    "plt.plot(x, y, 'o')\n",
    "plt.plot(x, a_hat + b_hat * x)\n",
    "plt.show()"
   ]
  }
 ],
 "metadata": {
  "kernelspec": {
   "display_name": "Python 3 (ipykernel)",
   "language": "python",
   "name": "python3"
  },
  "language_info": {
   "codemirror_mode": {
    "name": "ipython",
    "version": 3
   },
   "file_extension": ".py",
   "mimetype": "text/x-python",
   "name": "python",
   "nbconvert_exporter": "python",
   "pygments_lexer": "ipython3",
   "version": "3.9.13"
  }
 },
 "nbformat": 4,
 "nbformat_minor": 2
}
