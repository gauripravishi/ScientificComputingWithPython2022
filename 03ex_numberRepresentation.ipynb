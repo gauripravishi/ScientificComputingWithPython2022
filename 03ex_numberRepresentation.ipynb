{
 "cells": [
  {
   "cell_type": "markdown",
   "metadata": {},
   "source": [
    "You can solve these exercises in the room or at home. For this week, exercises have to be solved by creating a dedicated `.py` file (or files) called `03ex_numberRepresentation.py`.\n",
    "\n",
    "In case you need multiple files, name them `03ex_numberRepresentation_es01.py`, `03ex_numberRepresentation_es02.py` and so on. In this case, it's convenient to create a dedicated directory, to be named `03ex_numberRepresentation`. \n",
    "\n",
    "The exercises need to run without errors with `python3`."
   ]
  },
  {
   "cell_type": "markdown",
   "metadata": {},
   "source": [
    "1\\. **Number representation**\n",
    "\n",
    "Write a function that converts numbers among the bin, dec, and hex representations (bin<->dec<->hex).\n",
    "Determine the input type in the function, and pass another argument to choose the output representation."
   ]
  },
  {
   "cell_type": "code",
   "execution_count": 45,
   "metadata": {},
   "outputs": [
    {
     "name": "stdout",
     "output_type": "stream",
     "text": [
      "enter a binary, hexadecimal or decimal number = 0b10101010\n",
      "enter the above number\"s types as dec, hex or bin = bin\n",
      "The type you want to convert to (hex,bin,dec) = hex\n",
      "the Hexadecimal representation of the number is  0xaa\n"
     ]
    }
   ],
   "source": [
    "def conversion(x, y, z):\n",
    "    if x == 'dec':\n",
    "        if z == 'hex':\n",
    "            print(\"the Hexadecimal representation of the number is \", hex(int(y)))\n",
    "        elif z == 'bin':\n",
    "            print(\"the Binary representation of the number is \", bin(int(y)))\n",
    "        else:\n",
    "            print(y)\n",
    "    elif x == 'bin':\n",
    "        if z == 'hex':\n",
    "            print(\"the Hexadecimal representation of the number is \", hex(int(y,2)))\n",
    "        elif z == 'dec':\n",
    "            print(\"the Decimal representation of the number is \", int(y,2)) \n",
    "        else:\n",
    "            print(y)\n",
    "    elif x == 'hex':\n",
    "        if z == 'dec':\n",
    "            print(\"the Decimal representation of the number is \", int(y,16))\n",
    "        elif z == 'bin':\n",
    "            print(\"the Binary representation of the number is = \", bin(int(y,16)))\n",
    "        else:\n",
    "            print(y)    \n",
    "    else:\n",
    "        print('check inputs')\n",
    "                \n",
    "number = (input('enter a binary, hexadecimal or decimal number = '))\n",
    "numberType = (input('enter the above number\"s types as dec, hex or bin = '))\n",
    "convertTo = (input('The type you want to convert to (hex,bin,dec) = '))\n",
    "conversion(numberType, number, convertTo)"
   ]
  },
  {
   "cell_type": "code",
   "execution_count": 42,
   "metadata": {},
   "outputs": [
    {
     "name": "stdout",
     "output_type": "stream",
     "text": [
      "enter a binary, hexadecimal or decimal number a = 56\n",
      "hex value of a is =  0x38\n",
      "bin value of a is =  0b111000\n"
     ]
    }
   ],
   "source": [
    "number = int(input('enter a binary, hexadecimal or decimal number a = '))\n",
    "\n",
    "n_hex = hex(number)\n",
    "n_bin = bin(number)\n",
    "print('hex value of a is = ', n_hex)\n",
    "print('bin value of a is = ', n_bin)"
   ]
  },
  {
   "cell_type": "markdown",
   "metadata": {},
   "source": [
    "2\\. **32-bit floating point number**\n",
    "\n",
    "Write a function that converts a 32 bit binary string (for example, `110000101011000000000000`) into a single precision floating point in decimal representation. Interpret the various bits as sign, fractional part of the mantissa and exponent, according to the IEEE 754 reccommendations."
   ]
  },
  {
   "cell_type": "markdown",
   "metadata": {},
   "source": [
    "3\\. **Underflow and overflow**\n",
    "\n",
    "Write a program to determine the underflow and overflow limits (within a factor of 2) for floating point numbers on your computer. \n",
    "\n",
    "*Hint*: define two variables initialized to 1, and halve/double them for a sufficient amount of times to exceed the under/over-flow limits."
   ]
  },
  {
   "cell_type": "code",
   "execution_count": 149,
   "metadata": {},
   "outputs": [
    {
     "name": "stdout",
     "output_type": "stream",
     "text": [
      "1.7976931348623157e+308\n",
      "2.2250738585072014e-308\n"
     ]
    },
    {
     "data": {
      "text/plain": [
       "5e-324"
      ]
     },
     "execution_count": 149,
     "metadata": {},
     "output_type": "execute_result"
    }
   ],
   "source": [
    "import sys\n",
    "print(sys.float_info.max)\n",
    "print(sys.float_info.min)\n",
    "def doubling(c):\n",
    "    for i in range(0, 1023): #The machine gives an error at range 0 to 1024\n",
    "        c = c*2\n",
    "    return float(c)   \n",
    "\n",
    "def halving(d):\n",
    "    for i in range(0,1074): #The program returns 0 when at a range from 0 to 1075\n",
    "        d = d/2\n",
    "    return d  \n",
    "\n",
    "doubling(1)\n",
    "halving(1)"
   ]
  },
  {
   "cell_type": "markdown",
   "metadata": {},
   "source": [
    "4\\. **Machine precision**\n",
    "\n",
    "Similarly to the previous exercise, write a program to determine the machine precision for floating point numbers.\n",
    "\n",
    "*Hint*: define a new variable by adding an increasingly smaller value and check when the addition starts to have no effect on the number."
   ]
  },
  {
   "cell_type": "code",
   "execution_count": null,
   "metadata": {},
   "outputs": [],
   "source": []
  },
  {
   "cell_type": "markdown",
   "metadata": {},
   "source": [
    "5\\. **Quadratic solution**\n",
    "\n",
    "Write a function that takes in input three parameters $a$, $b$ and $c$ and prints out the two solutions to the quadratic equation $ax^2+bx+c=0$ using the standard formula:\n",
    "$$\n",
    "x=\\frac{-b\\pm\\sqrt{b^2-4ac}}{2a}\n",
    "$$\n",
    "\n",
    "(a) use the function to compute the solution for $a=0.001$, $b=1000$ and $c=0.001$\n",
    "\n",
    "(b) re-express the standard solution formula by multiplying the numerator and the denominator by $-b\\mp\\sqrt{b^2-4ac}$ and again find the solution for $a=0.001$, $b=1000$ and $c=0.001$. How does it compare with what has been previously obtained, and why? (add the answer to a Python comment)\n",
    "\n",
    "(c) write a function that computes the roots of a quadratic equation accurately in all cases"
   ]
  },
  {
   "cell_type": "code",
   "execution_count": 148,
   "metadata": {},
   "outputs": [
    {
     "name": "stdout",
     "output_type": "stream",
     "text": [
      "1.9999576986210166e-15 0.001999978849196669 0.001999978849196669 1999999999.996\n"
     ]
    },
    {
     "data": {
      "text/plain": [
       "(-9.999894245993346e-07, -999999.999999)"
      ]
     },
     "execution_count": 148,
     "metadata": {},
     "output_type": "execute_result"
    }
   ],
   "source": [
    "import math as m \n",
    "def quadratic(a,b,c):\n",
    "    a1 = (-b+(m.sqrt((b**2)-(4*a*c))))/(2*a)\n",
    "    a2 = (-b-(m.sqrt((b**2)-(4*a*c))))/(2*a)    \n",
    "    return a1, a2\n",
    "\n",
    "def quadratic1(a,b,c):\n",
    "    a1 = (-b+(m.sqrt((b**2)-(4*a*c))))/(2*a)\n",
    "    a2 = (-b-(m.sqrt((b**2)-(4*a*c))))/(2*a)    \n",
    "    b1 = a1*(-b+(m.sqrt((b**2)-(4*a*c))))\n",
    "    b2 = a1*(-b-(m.sqrt((b**2)-(4*a*c))))\n",
    "    b3 = a2*(-b+(m.sqrt((b**2)-(4*a*c))))\n",
    "    b4 = a2*(-b-(m.sqrt((b**2)-(4*a*c))))\n",
    "    print(b1, b2, b3, b4)\n",
    " \n",
    "\n",
    "quadratic1(0.001, 1000, 0.001)\n",
    "quadratic(0.001, 1000, 0.001)\n",
    "\n"
   ]
  },
  {
   "cell_type": "markdown",
   "metadata": {},
   "source": [
    "6\\. **The derivative**\n",
    "\n",
    "Write a program that implements the function $f(x)=x(x−1)$\n",
    "\n",
    "(a) Calculate the derivative of the function at the point $x = 1$ using the derivative definition:\n",
    "\n",
    "$$\n",
    "\\frac{{\\rm d}f}{{\\rm d}x} = \\lim_{\\delta\\to0} \\frac{f(x+\\delta)-f(x)}{\\delta}\n",
    "$$\n",
    "\n",
    "with $\\delta = 10^{−2}$. Calculate the true value of the same derivative analytically and compare it with the answer your program gives. The two will not agree perfectly. Why?\n",
    "\n",
    "(b) Repeat the calculation for $\\delta = 10^{−4}, 10^{−6}, 10^{−8}, 10^{−10}, 10^{−12}$ and $10^{−14}$. How does the accuracy scale with $\\delta$?"
   ]
  },
  {
   "cell_type": "code",
   "execution_count": 143,
   "metadata": {},
   "outputs": [
    {
     "name": "stdout",
     "output_type": "stream",
     "text": [
      "1.010000000000001\n",
      "-0.9898\n",
      "-0.9899999800000001\n",
      "-0.9899999999980001\n",
      "-0.9899999999999998\n",
      "-0.9900000000000001\n",
      "-0.9900000000000001\n"
     ]
    }
   ],
   "source": [
    "import math \n",
    "def f(x):\n",
    "    return x*(x-1)\n",
    "\n",
    "def f1(x):\n",
    "    i = 0.01\n",
    "    a = (f(x+i) - f(x))/i\n",
    "    print (a)\n",
    "    \n",
    "a = 1e-2    \n",
    "for i in range (0,7):\n",
    "    p = 2*i\n",
    "    b = (1e-2)**p\n",
    "    f1(float(b))\n",
    "    "
   ]
  },
  {
   "cell_type": "markdown",
   "metadata": {},
   "source": [
    "7\\. **Integral of a semicircle**\n",
    "\n",
    "Consider the integral of the semicircle of radius 1:\n",
    "$$\n",
    "I=\\int_{-1}^{1} \\sqrt(1-x^2) {\\rm d}x\n",
    "$$\n",
    "which is known to be $I=\\frac{\\pi}{2}=1.57079632679...$.\n",
    "\n",
    "Alternatively we can use the Riemann definition of the integral:\n",
    "$$\n",
    "I=\\lim_{N\\to\\infty} \\sum_{k=1}^{N} h y_k \n",
    "$$\n",
    "\n",
    "with $h=2/N$ the width of each of the $N$ slices the domain is divided into and where\n",
    "$y_k$ is the value of the function at the $k-$th slice.\n",
    "\n",
    "(a) Write a program to compute the integral with $N=100$. How does the result compare to the true value?\n",
    "\n",
    "(b) How much can $N$ be increased if the computation needs to be run in less than a second? What is the gain in running it for 1 minute? Use `timeit` to measure the time."
   ]
  },
  {
   "cell_type": "code",
   "execution_count": 129,
   "metadata": {},
   "outputs": [
    {
     "name": "stdout",
     "output_type": "stream",
     "text": [
      "1.56913425554925\n"
     ]
    }
   ],
   "source": [
    "import math \n",
    "I = pi/2\n",
    "N=100\n",
    "h=2/N\n",
    "b=0\n",
    "\n",
    "for i in range(1,N+1):\n",
    "    x = -1+(h*i)\n",
    "    y = sqrt(1-(x**2))\n",
    "    x = 1+(h*i)\n",
    "    a = h*y\n",
    "    b = b+a\n",
    "print(b)"
   ]
  }
 ],
 "metadata": {
  "kernelspec": {
   "display_name": "Python 3 (ipykernel)",
   "language": "python",
   "name": "python3"
  },
  "language_info": {
   "codemirror_mode": {
    "name": "ipython",
    "version": 3
   },
   "file_extension": ".py",
   "mimetype": "text/x-python",
   "name": "python",
   "nbconvert_exporter": "python",
   "pygments_lexer": "ipython3",
   "version": "3.9.13"
  }
 },
 "nbformat": 4,
 "nbformat_minor": 2
}
