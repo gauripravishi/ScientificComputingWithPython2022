{
 "cells": [
  {
   "cell_type": "markdown",
   "metadata": {},
   "source": [
    "1\\. **Reductions**\n",
    "\n",
    "Find the total mean, and the mean for each row and column of the following matrix:\n",
    "\n",
    "```python\n",
    "m = np.arange(12).reshape((3,4))\n",
    "```"
   ]
  },
  {
   "cell_type": "code",
   "execution_count": 14,
   "metadata": {},
   "outputs": [
    {
     "name": "stdout",
     "output_type": "stream",
     "text": [
      "[[ 0  1  2  3]\n",
      " [ 4  5  6  7]\n",
      " [ 8  9 10 11]]\n",
      "Total mean = 5.5\n",
      "The mean of the row  0 is = 1.5\n",
      "The mean of the row  1 is = 5.5\n",
      "The mean of the row  2 is = 9.5\n",
      "The mean of the column 0 is = 4.0\n",
      "The mean of the column 1 is = 5.0\n",
      "The mean of the column 2 is = 6.0\n",
      "The mean of the column 3 is = 7.0\n"
     ]
    }
   ],
   "source": [
    "import numpy as np\n",
    "import math \n",
    "m = np.arange(12).reshape((3,4)) #initializing\n",
    "print(m)\n",
    "\n",
    "#Total Mean\n",
    "print('Total mean =',m.mean())\n",
    "\n",
    "#Computing and printing the mean of rows\n",
    "for i in range (3):\n",
    "    print('The mean of the row ', i, 'is =', m[i].mean())\n",
    "   \n",
    "#Computing and printing the mean of columns    \n",
    "for i in range (4):\n",
    "    print('The mean of the column', i, 'is =', m[:,i].mean())\n"
   ]
  },
  {
   "cell_type": "markdown",
   "metadata": {},
   "source": [
    "2\\. **Outer product**\n",
    "\n",
    "Find the outer product of the following vectors:\n",
    "\n",
    "```python\n",
    "u = np.array([1, 3, 5, 7])\n",
    "v = np.array([2, 4, 6, 8])\n",
    "```\n",
    "\n",
    "Use different methods to do this:\n",
    "\n",
    "   1. Using the function `outer` in numpy\n",
    "   2. Using a nested `for` loop or a list comprehension\n",
    "   3. Using numpy broadcasting operations"
   ]
  },
  {
   "cell_type": "code",
   "execution_count": 3,
   "metadata": {},
   "outputs": [
    {
     "name": "stdout",
     "output_type": "stream",
     "text": [
      "[[ 2  4  6  8]\n",
      " [ 6 12 18 24]\n",
      " [10 20 30 40]\n",
      " [14 28 42 56]]\n"
     ]
    }
   ],
   "source": [
    "#Outer Product using 'np.outer' function\n",
    "\n",
    "u = np.array([1, 3, 5, 7]) \n",
    "v = np.array([2, 4, 6, 8])\n",
    "\n",
    "print(np.outer(u, v, out=None))"
   ]
  },
  {
   "cell_type": "code",
   "execution_count": 36,
   "metadata": {},
   "outputs": [
    {
     "name": "stdout",
     "output_type": "stream",
     "text": [
      "[[ 2  4  6  8]\n",
      " [ 6 12 18 24]\n",
      " [10 20 30 40]\n",
      " [14 28 42 56]]\n"
     ]
    }
   ],
   "source": [
    "import numpy as np\n",
    "#Outer Product using 'for loop'\n",
    "u = np.array([1, 3, 5, 7])\n",
    "v = np.array([2, 4, 6, 8])\n",
    "a = []\n",
    "for i in range (len(u)):\n",
    "    for j in range (len(v)):\n",
    "        val = u[i]*v[j]\n",
    "        a.append(val)    \n",
    "        \n",
    "m = np.array(a).reshape(4,4)\n",
    "print(m)"
   ]
  },
  {
   "cell_type": "code",
   "execution_count": 8,
   "metadata": {},
   "outputs": [
    {
     "name": "stdout",
     "output_type": "stream",
     "text": [
      "[[ 2  4  6  8]\n",
      " [ 6 12 18 24]\n",
      " [10 20 30 40]\n",
      " [14 28 42 56]]\n"
     ]
    }
   ],
   "source": [
    "#Outer Product using 'broadcasting'\n",
    "u = np.array([1, 3, 5, 7]) \n",
    "v = np.array([2, 4, 6, 8])\n",
    "a = np.array(u[:, np.newaxis] * v)\n",
    "print(a)"
   ]
  },
  {
   "cell_type": "markdown",
   "metadata": {},
   "source": [
    "3\\. **Matrix masking**\n",
    "\n",
    "Create a 10 by 6 matrix of float random numbers, distributed between 0 and 3 according to a flat distribution.\n",
    "\n",
    "After creating the matrix, set all entries $< 0.3$ to zero using a mask."
   ]
  },
  {
   "cell_type": "code",
   "execution_count": 67,
   "metadata": {},
   "outputs": [
    {
     "name": "stdout",
     "output_type": "stream",
     "text": [
      "The array is : \n",
      " [[1.68003662 2.65862106 0.30127843 1.29404874 0.05593737 0.13164028]\n",
      " [1.03938473 0.54531179 1.21247498 1.9050561  0.33885782 2.9827912 ]\n",
      " [0.95159832 0.80387999 1.49356877 1.47215645 2.94582834 1.00080542]\n",
      " [2.58990384 2.59124634 1.25947699 0.76046602 1.76300065 2.51533097]\n",
      " [1.0894236  1.90044212 2.40445492 1.32266182 0.55620118 2.31644088]\n",
      " [2.90722934 0.08673775 1.67556242 1.21556712 0.25983404 1.06599574]\n",
      " [0.7750986  1.76207125 0.00627611 2.94701214 0.87303068 2.83788015]\n",
      " [2.75221302 1.15697847 2.70936132 1.53835653 1.12793468 1.79534402]\n",
      " [1.37076485 1.58812007 2.72470271 0.09349683 1.20681446 0.27738027]\n",
      " [2.09995092 2.11894439 2.0767492  2.29800596 0.41506297 2.22791243]] \n",
      "\n",
      "The masked array is : \n",
      " [[1.6800366182423265 2.658621058121977 0.30127843096828877\n",
      "  1.2940487408309633 -- --]\n",
      " [1.0393847311540332 0.545311785010556 1.212474982624585\n",
      "  1.905056102822353 0.33885781913726165 2.9827911975422596]\n",
      " [0.9515983204172422 0.8038799938666035 1.49356877078601\n",
      "  1.4721564467701804 2.9458283403312477 1.000805417459286]\n",
      " [2.589903837769039 2.5912463353981416 1.2594769876536458\n",
      "  0.7604660234663346 1.7630006534364087 2.515330965427328]\n",
      " [1.0894235968531105 1.9004421248170165 2.4044549160923756\n",
      "  1.3226618215902817 0.5562011780656507 2.316440884634583]\n",
      " [2.907229342384149 -- 1.6755624226596546 1.2155671187742194 --\n",
      "  1.0659957382559377]\n",
      " [0.7750985961960878 1.7620712502081202 -- 2.9470121351140173\n",
      "  0.8730306829780841 2.837880149916943]\n",
      " [2.7522130218101126 1.1569784700539751 2.7093613202212996\n",
      "  1.5383565292831012 1.1279346818234242 1.795344018038956]\n",
      " [1.3707648522472091 1.5881200738065933 2.7247027122779315 --\n",
      "  1.2068144591696546 --]\n",
      " [2.0999509194940464 2.118944386639484 2.0767492042285696\n",
      "  2.298005959798237 0.41506296861617453 2.2279124277460074]] \n",
      "\n",
      "The array with masked values raplaced by zero is : \n",
      " [[1.68003662 2.65862106 0.30127843 1.29404874 0.         0.        ]\n",
      " [1.03938473 0.54531179 1.21247498 1.9050561  0.33885782 2.9827912 ]\n",
      " [0.95159832 0.80387999 1.49356877 1.47215645 2.94582834 1.00080542]\n",
      " [2.58990384 2.59124634 1.25947699 0.76046602 1.76300065 2.51533097]\n",
      " [1.0894236  1.90044212 2.40445492 1.32266182 0.55620118 2.31644088]\n",
      " [2.90722934 0.         1.67556242 1.21556712 0.         1.06599574]\n",
      " [0.7750986  1.76207125 0.         2.94701214 0.87303068 2.83788015]\n",
      " [2.75221302 1.15697847 2.70936132 1.53835653 1.12793468 1.79534402]\n",
      " [1.37076485 1.58812007 2.72470271 0.         1.20681446 0.        ]\n",
      " [2.09995092 2.11894439 2.0767492  2.29800596 0.41506297 2.22791243]]\n"
     ]
    }
   ],
   "source": [
    "import numpy.random as npr\n",
    "import numpy.ma as ma\n",
    "\n",
    "#init an Array of size 10x6\n",
    "a = npr.rand(10, 6)*3 \n",
    "print('The array is : \\n', a,'\\n')\n",
    "\n",
    "#Mask the Array with the above mentioned condition\n",
    "b = ma.masked_less_equal(a, 0.3)\n",
    "print('The masked array is : \\n', b, '\\n')\n",
    "\n",
    "\n",
    "#Fill the gaps with zeros\n",
    "b = b.filled(0)\n",
    "print('The array with masked values raplaced by zero is : \\n', b)"
   ]
  },
  {
   "cell_type": "markdown",
   "metadata": {},
   "source": [
    "4\\. **Trigonometric functions**\n",
    "\n",
    "Use `np.linspace` to create an array of 100 numbers between $0$ and $2\\pi$ (inclusive).\n",
    "\n",
    "  * Extract every 10th element using the slice notation\n",
    "  * Reverse the array using the slice notation\n",
    "  * Extract elements where the absolute difference between the `sin` and `cos` functions evaluated for that element is $< 0.1$\n",
    "  * **Optional**: make a plot showing the sin and cos functions and indicate where they are close"
   ]
  },
  {
   "cell_type": "code",
   "execution_count": 19,
   "metadata": {},
   "outputs": [
    {
     "name": "stdout",
     "output_type": "stream",
     "text": [
      "a = \n",
      " [0.         0.06346652 0.12693304 0.19039955 0.25386607 0.31733259\n",
      " 0.38079911 0.44426563 0.50773215 0.57119866 0.63466518 0.6981317\n",
      " 0.76159822 0.82506474 0.88853126 0.95199777 1.01546429 1.07893081\n",
      " 1.14239733 1.20586385 1.26933037 1.33279688 1.3962634  1.45972992\n",
      " 1.52319644 1.58666296 1.65012947 1.71359599 1.77706251 1.84052903\n",
      " 1.90399555 1.96746207 2.03092858 2.0943951  2.15786162 2.22132814\n",
      " 2.28479466 2.34826118 2.41172769 2.47519421 2.53866073 2.60212725\n",
      " 2.66559377 2.72906028 2.7925268  2.85599332 2.91945984 2.98292636\n",
      " 3.04639288 3.10985939 3.17332591 3.23679243 3.30025895 3.36372547\n",
      " 3.42719199 3.4906585  3.55412502 3.61759154 3.68105806 3.74452458\n",
      " 3.8079911  3.87145761 3.93492413 3.99839065 4.06185717 4.12532369\n",
      " 4.1887902  4.25225672 4.31572324 4.37918976 4.44265628 4.5061228\n",
      " 4.56958931 4.63305583 4.69652235 4.75998887 4.82345539 4.88692191\n",
      " 4.95038842 5.01385494 5.07732146 5.14078798 5.2042545  5.26772102\n",
      " 5.33118753 5.39465405 5.45812057 5.52158709 5.58505361 5.64852012\n",
      " 5.71198664 5.77545316 5.83891968 5.9023862  5.96585272 6.02931923\n",
      " 6.09278575 6.15625227 6.21971879 6.28318531]\n"
     ]
    }
   ],
   "source": [
    "import math as m\n",
    "\n",
    "#Init the array with the above condition\n",
    "a = np.linspace(0, 2*(math.pi), num=100)\n",
    "print('a = \\n',a)"
   ]
  },
  {
   "cell_type": "code",
   "execution_count": 22,
   "metadata": {},
   "outputs": [
    {
     "name": "stdout",
     "output_type": "stream",
     "text": [
      "[0.57119866 1.20586385 1.84052903 2.47519421 3.10985939 3.74452458\n",
      " 4.37918976 5.01385494 5.64852012 6.28318531]\n"
     ]
    }
   ],
   "source": [
    "#To Extract every 10th element using the slice notation\n",
    "print(a[9:100:10])\n"
   ]
  },
  {
   "cell_type": "code",
   "execution_count": 52,
   "metadata": {},
   "outputs": [
    {
     "name": "stdout",
     "output_type": "stream",
     "text": [
      "[6.28318531 6.21971879 6.15625227 6.09278575 6.02931923 5.96585272\n",
      " 5.9023862  5.83891968 5.77545316 5.71198664 5.64852012 5.58505361\n",
      " 5.52158709 5.45812057 5.39465405 5.33118753 5.26772102 5.2042545\n",
      " 5.14078798 5.07732146 5.01385494 4.95038842 4.88692191 4.82345539\n",
      " 4.75998887 4.69652235 4.63305583 4.56958931 4.5061228  4.44265628\n",
      " 4.37918976 4.31572324 4.25225672 4.1887902  4.12532369 4.06185717\n",
      " 3.99839065 3.93492413 3.87145761 3.8079911  3.74452458 3.68105806\n",
      " 3.61759154 3.55412502 3.4906585  3.42719199 3.36372547 3.30025895\n",
      " 3.23679243 3.17332591 3.10985939 3.04639288 2.98292636 2.91945984\n",
      " 2.85599332 2.7925268  2.72906028 2.66559377 2.60212725 2.53866073\n",
      " 2.47519421 2.41172769 2.34826118 2.28479466 2.22132814 2.15786162\n",
      " 2.0943951  2.03092858 1.96746207 1.90399555 1.84052903 1.77706251\n",
      " 1.71359599 1.65012947 1.58666296 1.52319644 1.45972992 1.3962634\n",
      " 1.33279688 1.26933037 1.20586385 1.14239733 1.07893081 1.01546429\n",
      " 0.95199777 0.88853126 0.82506474 0.76159822 0.6981317  0.63466518\n",
      " 0.57119866 0.50773215 0.44426563 0.38079911 0.31733259 0.25386607\n",
      " 0.19039955 0.12693304 0.06346652 0.        ]\n",
      "[[6.28318531 6.21971879 6.15625227 6.09278575 6.02931923 5.96585272\n",
      "  5.9023862  5.83891968 5.77545316 5.71198664]\n",
      " [5.64852012 5.58505361 5.52158709 5.45812057 5.39465405 5.33118753\n",
      "  5.26772102 5.2042545  5.14078798 5.07732146]\n",
      " [5.01385494 4.95038842 4.88692191 4.82345539 4.75998887 4.69652235\n",
      "  4.63305583 4.56958931 4.5061228  4.44265628]\n",
      " [4.37918976 4.31572324 4.25225672 4.1887902  4.12532369 4.06185717\n",
      "  3.99839065 3.93492413 3.87145761 3.8079911 ]\n",
      " [3.74452458 3.68105806 3.61759154 3.55412502 3.4906585  3.42719199\n",
      "  3.36372547 3.30025895 3.23679243 3.17332591]\n",
      " [3.10985939 3.04639288 2.98292636 2.91945984 2.85599332 2.7925268\n",
      "  2.72906028 2.66559377 2.60212725 2.53866073]\n",
      " [2.47519421 2.41172769 2.34826118 2.28479466 2.22132814 2.15786162\n",
      "  2.0943951  2.03092858 1.96746207 1.90399555]\n",
      " [1.84052903 1.77706251 1.71359599 1.65012947 1.58666296 1.52319644\n",
      "  1.45972992 1.3962634  1.33279688 1.26933037]\n",
      " [1.20586385 1.14239733 1.07893081 1.01546429 0.95199777 0.88853126\n",
      "  0.82506474 0.76159822 0.6981317  0.63466518]\n",
      " [0.57119866 0.50773215 0.44426563 0.38079911 0.31733259 0.25386607\n",
      "  0.19039955 0.12693304 0.06346652 0.        ]]\n",
      "100\n"
     ]
    }
   ],
   "source": [
    "#Reverse the array using the slice notation\n",
    "print(a[::-1])\n",
    "\n",
    "#Reverse using Numpy.flip()\n",
    "b = np.reshape(a, (10,10))\n",
    "print(np.flip(b))\n",
    "\n",
    "print(len(a))"
   ]
  },
  {
   "cell_type": "code",
   "execution_count": 67,
   "metadata": {},
   "outputs": [
    {
     "name": "stdout",
     "output_type": "stream",
     "text": [
      "a[ 12 ] =  0.7615982190520711 and the Absolute difference is = 0.03365502662295816\n",
      "a[ 13 ] =  0.8250647373064104 and the Absolute difference is = 0.056082297100401135\n",
      "a[ 61 ] =  3.8714576135146945 and the Absolute difference is = 0.07849544915946327\n",
      "a[ 62 ] =  3.934924131769034 and the Absolute difference is = 0.011219283672541658\n",
      "Total Number of elements extracted from array =  4\n"
     ]
    }
   ],
   "source": [
    "#Extract elements where the absolute difference between the sin and cos functions evaluated for that element is  <0.1\n",
    "n=0\n",
    "for i in range (len(a)):\n",
    "    \n",
    "    if (abs((np.sin(a[i]))-np.cos(a[i])))<0.1 :\n",
    "    \n",
    "        print('a[',i,'] = ', a[i],'and the Absolute difference is =', abs((np.sin(a[i]))-np.cos(a[i])))\n",
    "        n=n+1\n",
    "        \n",
    "    else:\n",
    "        \n",
    "        pass\n",
    "    \n",
    "print('Total Number of elements extracted from array = ', n)      "
   ]
  },
  {
   "cell_type": "code",
   "execution_count": 15,
   "metadata": {},
   "outputs": [
    {
     "name": "stdout",
     "output_type": "stream",
     "text": [
      "3.141592653589793\n"
     ]
    }
   ],
   "source": [
    "a=math.pi\n",
    "print(a)"
   ]
  },
  {
   "cell_type": "code",
   "execution_count": 26,
   "metadata": {},
   "outputs": [
    {
     "data": {
      "text/plain": [
       "[<matplotlib.lines.Line2D at 0x866bd27430>]"
      ]
     },
     "execution_count": 26,
     "metadata": {},
     "output_type": "execute_result"
    },
    {
     "data": {
      "image/png": "[encoded data removed]",
      "text/plain": [
       "<Figure size 640x480 with 2 Axes>"
      ]
     },
     "metadata": {},
     "output_type": "display_data"
    }
   ],
   "source": [
    "#Optional: make a plot showing the sin and cos functions and indicate where they are close\n",
    "import matplotlib.pyplot as plt\n",
    "fig = plt.figure()\n",
    "ax = fig.add_subplot()\n",
    "bx = fig.add_subplot()\n",
    "\n",
    "X = np.linspace(0, 2*a, 100)\n",
    "Y1 = np.sin(X)\n",
    "Y2 = np.cos(X)\n",
    "\n",
    "plt.plot(X, np.sin(X))\n",
    "plt.plot(X, np.cos(X))\n",
    "\n"
   ]
  },
  {
   "cell_type": "markdown",
   "metadata": {},
   "source": [
    "5\\. **Matrices**\n",
    "\n",
    "Create a matrix that shows the 10 by 10 multiplication table.\n",
    "\n",
    " * Find the trace of the matrix\n",
    " * Extract the anti-diagonal matrix (this should be ```array([10, 18, 24, 28, 30, 30, 28, 24, 18, 10])```)\n",
    " * Extract the diagonal offset by 1 upwards (this should be ```array([ 2,  6, 12, 20, 30, 42, 56, 72, 90])```)"
   ]
  },
  {
   "cell_type": "code",
   "execution_count": 73,
   "metadata": {},
   "outputs": [
    {
     "name": "stdout",
     "output_type": "stream",
     "text": [
      "The Matrix of 10x10 Multiplication table is: \n",
      " [[  1   2   3   4   5   6   7   8   9  10]\n",
      " [  2   4   6   8  10  12  14  16  18  20]\n",
      " [  3   6   9  12  15  18  21  24  27  30]\n",
      " [  4   8  12  16  20  24  28  32  36  40]\n",
      " [  5  10  15  20  25  30  35  40  45  50]\n",
      " [  6  12  18  24  30  36  42  48  54  60]\n",
      " [  7  14  21  28  35  42  49  56  63  70]\n",
      " [  8  16  24  32  40  48  56  64  72  80]\n",
      " [  9  18  27  36  45  54  63  72  81  90]\n",
      " [ 10  20  30  40  50  60  70  80  90 100]]\n",
      "\n",
      " Trace of the matrix is =  385\n"
     ]
    }
   ],
   "source": [
    "import numpy as np\n",
    "import math as m \n",
    "\n",
    "#Init the array\n",
    "u = np.array([1,2,3,4,5,6,7,8,9,10])\n",
    "x = np.array([[1], [2], [3], [4], [5], [6], [7], [8], [9], [10]])\n",
    "v = u*x\n",
    "print('The Matrix of 10x10 Multiplication table is: \\n', v)\n",
    "\n",
    "#Trace of a Matrix\n",
    "print('\\n Trace of the matrix is = ', np.trace(v))\n",
    "\n",
    "#Extract the anti-diagonal matrix (this should be array([10, 18, 24, 28, 30, 30, 28, 24, 18, 10]))\n",
    "\n"
   ]
  },
  {
   "cell_type": "markdown",
   "metadata": {},
   "source": [
    "6\\. **Broadcasting**\n",
    "\n",
    "Use broadcasting to create a grid of distances.\n",
    "\n",
    "Route 66 crosses the following cities in the US: Chicago, Springfield, Saint-Louis, Tulsa, Oklahoma City, Amarillo, Santa Fe, Albuquerque, Flagstaff, Los Angeles.\n",
    "\n",
    "The corresponding positions in miles are: 0, 198, 303, 736, 871, 1175, 1475, 1544, 1913, 2448\n",
    "\n",
    "  * Build a 2D grid of distances among each city along Route 66\n",
    "  * Convert the distances in km"
   ]
  },
  {
   "cell_type": "code",
   "execution_count": null,
   "metadata": {},
   "outputs": [],
   "source": []
  },
  {
   "cell_type": "markdown",
   "metadata": {},
   "source": [
    "7\\. **Prime numbers sieve**\n",
    "\n",
    "Compute the prime numbers in the 0-N (start with N=99) range with a sieve (mask).\n",
    "\n",
    "  * Constract a shape (N,) boolean array, which is the mask\n",
    "  * Identify the multiples of each number starting from 2 and set accordingly the corresponding mask element\n",
    "  * Apply the mask to obtain an array of ordered prime numbers\n",
    "  * Check the performances (with `timeit`); how does it scale with N?\n",
    "  * Implement the optimization suggested in the [sieve of Eratosthenes](https://en.wikipedia.org/wiki/Sieve_of_Eratosthenes)"
   ]
  },
  {
   "cell_type": "code",
   "execution_count": null,
   "metadata": {},
   "outputs": [],
   "source": []
  },
  {
   "cell_type": "markdown",
   "metadata": {},
   "source": [
    "8\\. **Diffusion using random walk**\n",
    "\n",
    "Consider a simple random walk process: at each step in time, a walker jumps right or left (+1 or -1) with equal probability. The goal is to find the typical distance from the origin of many random walkers after a given amount of time.\n",
    "\n",
    "*Hint*: create a 2D array where each row represents a walker, and each column represents a time step.\n",
    "\n",
    "  * Take 1000 walkers and let them walk for 200 steps\n",
    "  * Use `randint` to create a 2D array of size $walkers \\times steps$ with values -1 or 1\n",
    "  * Calculate the walking distances for each walker (e.g. by summing the elements in each row)\n",
    "  * Take the square of the previously-obtained array (element-wise)\n",
    "  * Compute the mean of the squared distances at each step (i.e. the mean along the columns)\n",
    "  * **Optional**: plot the average distances ($\\sqrt(distance^2)$) as a function of time (step)"
   ]
  },
  {
   "cell_type": "code",
   "execution_count": null,
   "metadata": {},
   "outputs": [],
   "source": []
  }
 ],
 "metadata": {
  "kernelspec": {
   "display_name": "Python 3 (ipykernel)",
   "language": "python",
   "name": "python3"
  },
  "language_info": {
   "codemirror_mode": {
    "name": "ipython",
    "version": 3
   },
   "file_extension": ".py",
   "mimetype": "text/x-python",
   "name": "python",
   "nbconvert_exporter": "python",
   "pygments_lexer": "ipython3",
   "version": "3.9.13"
  }
 },
 "nbformat": 4,
 "nbformat_minor": 2
}
