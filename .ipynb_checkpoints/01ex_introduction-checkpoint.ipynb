{
 "cells": [
  {
   "cell_type": "markdown",
   "metadata": {},
   "source": [
    "You can solve these exercises in the room or at home. For this week, and the next 3 weeks, exercises have to be solved by creating a dedicated `.py` file (or files) called `01ex_introduction.py`.\n",
    "\n",
    "In case you need multiple files, name them `01ex_introduction_es01.py`, `01ex_introduction_es02.py` and so on. \n",
    "\n",
    "The exercises need to run without errors in `python3`."
   ]
  },
  {
   "cell_type": "markdown",
   "metadata": {},
   "source": [
    "1\\. **The HelloWorld replacement**\n",
    "\n",
    "a) Write a program that:\n",
    "- prints the numbers from 1 to 100\n",
    "- but for multiples of three print \"`Hello`\" instead of the number and for the multiples of five print \"`World`\"\n",
    "- for numbers which are multiples of both three and five print \"`HelloWorld`\".\n",
    "\n",
    "b) Put the result in a tuple and substitute \"`Hello`\" with \"`Python`\" and \"`World`\" with \"`Works`\"."
   ]
  },
  {
   "cell_type": "code",
   "execution_count": 2,
   "metadata": {},
   "outputs": [
    {
     "name": "stdout",
     "output_type": "stream",
     "text": [
      "HelloWorld\n",
      "1\n",
      "2\n",
      "Python\n",
      "4\n",
      "Works\n",
      "Python\n",
      "7\n",
      "8\n",
      "Python\n",
      "Works\n",
      "11\n",
      "Python\n",
      "13\n",
      "14\n",
      "PythonWorks\n",
      "16\n",
      "17\n",
      "Python\n",
      "19\n",
      "Works\n",
      "Python\n",
      "22\n",
      "23\n",
      "Python\n",
      "Works\n",
      "26\n",
      "Python\n",
      "28\n",
      "29\n",
      "PythonWorks\n",
      "31\n",
      "32\n",
      "Python\n",
      "34\n",
      "Works\n",
      "Python\n",
      "37\n",
      "38\n",
      "Python\n",
      "Works\n",
      "41\n",
      "Python\n",
      "43\n",
      "44\n",
      "PythonWorks\n",
      "46\n",
      "47\n",
      "Python\n",
      "49\n",
      "Works\n",
      "Python\n",
      "52\n",
      "53\n",
      "Python\n",
      "Works\n",
      "56\n",
      "Python\n",
      "58\n",
      "59\n",
      "PythonWorks\n",
      "61\n",
      "62\n",
      "Python\n",
      "64\n",
      "Works\n",
      "Python\n",
      "67\n",
      "68\n",
      "Python\n",
      "Works\n",
      "71\n",
      "Python\n",
      "73\n",
      "74\n",
      "PythonWorks\n",
      "76\n",
      "77\n",
      "Python\n",
      "79\n",
      "Works\n",
      "Python\n",
      "82\n",
      "83\n",
      "Python\n",
      "Works\n",
      "86\n",
      "Python\n",
      "88\n",
      "89\n",
      "PythonWorks\n",
      "91\n",
      "92\n",
      "Python\n",
      "94\n",
      "Works\n",
      "Python\n",
      "97\n",
      "98\n",
      "Python\n",
      "Works\n",
      "(1, 2, 'Python', 4, 'Works', 'Python', 7, 8, 'Python', 'Works', 11, 'Python', 13, 14, 'PythonWorks', 16, 17, 'Python', 19, 'Works', 'Python', 22, 23, 'Python', 'Works', 26, 'Python', 28, 29, 'PythonWorks', 31, 32, 'Python', 34, 'Works', 'Python', 37, 38, 'Python', 'Works', 41, 'Python', 43, 44, 'PythonWorks', 46, 47, 'Python', 49, 'Works', 'Python', 52, 53, 'Python', 'Works', 56, 'Python', 58, 59, 'PythonWorks', 61, 62, 'Python', 64, 'Works', 'Python', 67, 68, 'Python', 'Works', 71, 'Python', 73, 74, 'PythonWorks', 76, 77, 'Python', 79, 'Works', 'Python', 82, 83, 'Python', 'Works', 86, 'Python', 88, 89, 'PythonWorks', 91, 92, 'Python', 94, 'Works', 'Python', 97, 98, 'Python', 'Works')\n"
     ]
    }
   ],
   "source": [
    "a=[]\n",
    "for i in range (0,100):\n",
    "    if (i+1)%15 == 0:\n",
    "        a.append(\"HelloWorld\")       \n",
    "    elif (i+1)%5 == 0:\n",
    "        a.append(\"World\") \n",
    "    elif (i+1)%3 == 0:\n",
    "        a.append(\"Hello\")\n",
    "    else :\n",
    "        a.append(i+1)\n",
    "        \n",
    "print (a[14]) \n",
    "\n",
    "for i in range (0,100,1):\n",
    "    if a[i]==\"Hello\":\n",
    "        a[i]=\"Python\"\n",
    "        print(a[i])\n",
    "    elif a[i]==\"World\":\n",
    "        a[i]=\"Works\"\n",
    "        print(a[i])\n",
    "    elif a[i]==\"HelloWorld\":\n",
    "        a[i]=\"PythonWorks\"\n",
    "        print(a[i])\n",
    "    else : \n",
    "        print(a[i]) \n",
    "\n",
    "b = tuple(a)\n",
    "\n",
    "print(b)"
   ]
  },
  {
   "cell_type": "markdown",
   "metadata": {},
   "source": [
    "2\\. **The swap**\n",
    "\n",
    "Write a program that swaps the values of two input variables *x* and *y* from command line (whatever the type).\n",
    "\n",
    "Try to do that without using a temporary variable, exploiting the Python syntax."
   ]
  },
  {
   "cell_type": "code",
   "execution_count": null,
   "metadata": {},
   "outputs": [],
   "source": [
    "x = input('type a value for x\\n')\n",
    "y = input('type a value for y\\n')\n",
    "x,y = y,x\n",
    "print (\"x = \", x, \" y = \", y)\n"
   ]
  },
  {
   "cell_type": "markdown",
   "metadata": {},
   "source": [
    "3\\. **Computing the distance**\n",
    "\n",
    "Write a function that calculates and returns the euclidean distance between two points *u* and *v* in a 2D space, where *u* and *v* are both 2-tuples *(x,y)*.\n",
    "\n",
    "Example: if *u=(3,0)* and *v=(0,4)*, the function should return 5.\n",
    "\n",
    "*Hint:* in order to compute the square root, import the `math` library with `import math` and use `math.sqrt()`."
   ]
  },
  {
   "cell_type": "code",
   "execution_count": 63,
   "metadata": {},
   "outputs": [
    {
     "name": "stdout",
     "output_type": "stream",
     "text": [
      "x1 = 3\n",
      "y1 = 0\n",
      "x2 = 0\n",
      "y2 = 4\n",
      "Euclidean Distance = 5.0\n"
     ]
    }
   ],
   "source": [
    "import math\n",
    "\n",
    "def Euclidean(a,b,c,d):\n",
    "    d = math.sqrt(((c-a)**2) + ((d-b)**2))\n",
    "    return print('Euclidean Distance =', d)\n",
    "\n",
    "u = (int(input('x1 = ')), int(input('y1 = ')))\n",
    "v = (int(input('x2 = ')), int(input('y2 = ')))\n",
    "Euclidean(u[0],u[1],v[0],v[1])"
   ]
  },
  {
   "cell_type": "markdown",
   "metadata": {},
   "source": [
    "##### 4\\. **Counting letters**\n",
    "\n",
    "Write a program that calculates the number of times each character occurs in a given string. Ignore differences in capitalization.\n",
    "\n",
    "The strings are in the cell below."
   ]
  },
  {
   "cell_type": "code",
   "execution_count": 18,
   "metadata": {},
   "outputs": [
    {
     "name": "stdout",
     "output_type": "stream",
     "text": [
      "write a program that prints the numbers from 1 to 100. but for multiples of three print hello instead of the number and for the multiples of five print world. for numbers which are multiples of both three and five print helloworld.\n",
      "{'w': 4, 'r': 19, 'i': 12, 't': 19, 'e': 20, ' ': 41, 'a': 7, 'p': 8, 'o': 15, 'g': 1, 'm': 8, 'h': 11, 'n': 10, 's': 7, 'u': 7, 'b': 5, 'f': 10, '1': 2, '0': 2, '.': 3, 'l': 12, 'd': 5, 'v': 2, 'c': 1}\n",
      "the quick brown fox jumps over the lazy dog\n",
      "{'t': 2, 'h': 2, 'e': 3, ' ': 8, 'q': 1, 'u': 2, 'i': 1, 'c': 1, 'k': 1, 'b': 1, 'r': 2, 'o': 4, 'w': 1, 'n': 1, 'f': 1, 'x': 1, 'j': 1, 'm': 1, 'p': 1, 's': 1, 'v': 1, 'l': 1, 'a': 1, 'z': 1, 'y': 1, 'd': 1, 'g': 1}\n"
     ]
    }
   ],
   "source": [
    "s1 = \"Write a program that prints the numbers from 1 to 100. \\\n",
    "But for multiples of three print Hello instead of the number and for the multiples of five print World. \\\n",
    "For numbers which are multiples of both three and five print HelloWorld.\"\n",
    "s2 = \"The quick brown fox jumps over the lazy dog\"\n",
    "a = str.lower(s1)\n",
    "length = len(a)\n",
    "print(a)\n",
    "counting = {}\n",
    "for i in range (0,length):\n",
    "    c = a.count(a[i])\n",
    "    counting[a[i]] = c\n",
    "print(counting)    \n",
    "a = s2 \n",
    "a = str.lower(a)\n",
    "length = len(a)\n",
    "print(a)\n",
    "counting = {}\n",
    "for i in range (0,length):\n",
    "    c = a.count(a[i])\n",
    "    counting[a[i]] = c\n",
    "print(counting)  \n",
    "    \n",
    "    "
   ]
  },
  {
   "cell_type": "markdown",
   "metadata": {},
   "source": [
    "5\\. **Isolating the unique**\n",
    "\n",
    "Write a program that determines and counts the unique numbers in the list:"
   ]
  },
  {
   "cell_type": "code",
   "execution_count": 43,
   "metadata": {},
   "outputs": [
    {
     "name": "stdout",
     "output_type": "stream",
     "text": [
      "No. of unique numbers = 37 \n",
      " [1, 5, 8, 9, 10, 16, 18, 19, 24, 30, 33, 37, 39, 41, 47, 53, 54, 55, 57, 58, 64, 72, 74, 75, 79, 81, 82, 86, 87, 88, 90, 92, 94, 95, 96, 98, 99]\n"
     ]
    }
   ],
   "source": [
    "l = [36, 45, 58, 3, 74, 96, 64, 45, 31, 10, 24, 19, 33, 86, 99, 18, 63, 70, 85,\n",
    "     85, 63, 47, 56, 42, 70, 84, 88, 55, 20, 54, 8, 56, 51, 79, 81, 57, 37, 91,\n",
    "     1, 84, 84, 36, 66, 9, 89, 50, 42, 91, 50, 95, 90, 98, 39, 16, 82, 31, 92, 41,\n",
    "     45, 30, 66, 70, 34, 85, 94, 5, 3, 36, 72, 91, 84, 34, 87, 75, 53, 51, 20, 89, 51, 20]\n",
    "length = len(l)\n",
    "d = []\n",
    "for i in range (0,length):\n",
    "    new = l.count(l[i])\n",
    "    if new == 1 : \n",
    "        d.append(l[i])\n",
    "    else :\n",
    "        pass\n",
    "countOf_d = len(d)    \n",
    "d.sort()\n",
    "print (\"No. of unique numbers =\",countOf_d,\"\\n\", d)        \n",
    "    \n"
   ]
  },
  {
   "cell_type": "markdown",
   "metadata": {},
   "source": [
    "Do the same exploiting only the Python data structures."
   ]
  },
  {
   "cell_type": "code",
   "execution_count": 81,
   "metadata": {},
   "outputs": [
    {
     "name": "stdout",
     "output_type": "stream",
     "text": [
      "{1, 3, 5, 8, 9, 10, 16, 18, 19, 20, 24, 30, 31, 33, 34, 36, 37, 39, 41, 42, 45, 47, 50, 51, 53, 54, 55, 56, 57, 58, 63, 64, 66, 70, 72, 74, 75, 79, 81, 82, 84, 85, 86, 87, 88, 89, 90, 91, 92, 94, 95, 96, 98, 99}\n"
     ]
    },
    {
     "ename": "AttributeError",
     "evalue": "'list' object has no attribute 'difference'",
     "output_type": "error",
     "traceback": [
      "\u001b[1;31m---------------------------------------------------------------------------\u001b[0m",
      "\u001b[1;31mAttributeError\u001b[0m                            Traceback (most recent call last)",
      "\u001b[1;32m~\\AppData\\Local\\Temp\\ipykernel_6032\\1494859794.py\u001b[0m in \u001b[0;36m<module>\u001b[1;34m\u001b[0m\n\u001b[0;32m      6\u001b[0m \u001b[0mL\u001b[0m \u001b[1;33m=\u001b[0m \u001b[0mset\u001b[0m\u001b[1;33m(\u001b[0m\u001b[0ml\u001b[0m\u001b[1;33m)\u001b[0m\u001b[1;33m\u001b[0m\u001b[1;33m\u001b[0m\u001b[0m\n\u001b[0;32m      7\u001b[0m \u001b[0mprint\u001b[0m\u001b[1;33m(\u001b[0m\u001b[0mL\u001b[0m\u001b[1;33m)\u001b[0m\u001b[1;33m\u001b[0m\u001b[1;33m\u001b[0m\u001b[0m\n\u001b[1;32m----> 8\u001b[1;33m \u001b[0ml\u001b[0m \u001b[1;33m=\u001b[0m \u001b[0ml\u001b[0m\u001b[1;33m.\u001b[0m\u001b[0mdifference\u001b[0m\u001b[1;33m(\u001b[0m\u001b[0mL\u001b[0m\u001b[1;33m)\u001b[0m\u001b[1;33m\u001b[0m\u001b[1;33m\u001b[0m\u001b[0m\n\u001b[0m",
      "\u001b[1;31mAttributeError\u001b[0m: 'list' object has no attribute 'difference'"
     ]
    }
   ],
   "source": [
    "l = [36, 45, 58, 3, 74, 96, 64, 45, 31, 10, 24, 19, 33, 86, 99, 18, 63, 70, 85,\n",
    "     85, 63, 47, 56, 42, 70, 84, 88, 55, 20, 54, 8, 56, 51, 79, 81, 57, 37, 91,\n",
    "     1, 84, 84, 36, 66, 9, 89, 50, 42, 91, 50, 95, 90, 98, 39, 16, 82, 31, 92, 41,\n",
    "     45, 30, 66, 70, 34, 85, 94, 5, 3, 36, 72, 91, 84, 34, 87, 75, 53, 51, 20, 89, 51, 20]\n",
    "\n",
    "L = set(l)\n",
    "print(L)\n",
    "l = l"
   ]
  },
  {
   "cell_type": "markdown",
   "metadata": {},
   "source": [
    "6\\. **Casting**\n",
    "\n",
    "Write a program that:\n",
    "* reads from command line two variables, that can be either `int`, `float`, or `str`.\n",
    "* use the `try`/`except` expressions to perform the addition of these two variables, only if possible\n",
    "* and print the result without making the code crash for all the `int`/`float`/`str` input combinations."
   ]
  },
  {
   "cell_type": "code",
   "execution_count": 66,
   "metadata": {},
   "outputs": [
    {
     "name": "stdout",
     "output_type": "stream",
     "text": [
      "Enter an int value = 2\n",
      "Enter a str value = wow\n",
      "Enter a float value = 3.14\n",
      "Not possible to add 2 and wow\n",
      "Not possible to add wow and 3.14\n",
      "5.140000000000001\n"
     ]
    }
   ],
   "source": [
    "D = ()\n",
    "A = int(input('Enter an int value = '))\n",
    "B = str(input('Enter a str value = '))\n",
    "C = float(input('Enter a float value = '))\n",
    "\n",
    "try:\n",
    "    D = A+B\n",
    "    print(D)    \n",
    "except:\n",
    "    print (\"Not possible to add\", A, \"and\", B)\n",
    "try:\n",
    "    D = B+C\n",
    "    print(D)\n",
    "except:\n",
    "    print (\"Not possible to add\", B, \"and\", C)  \n",
    "try:\n",
    "    D = A+C\n",
    "    print(D)\n",
    "except:\n",
    "    print (\"Not possible to add\", A, \"and\", C)    "
   ]
  },
  {
   "cell_type": "markdown",
   "metadata": {},
   "source": [
    "7\\. **Cubes**\n",
    "\n",
    "Create a list of the cubes of *x* for *x* in *[0, 10]* using:\n",
    "\n",
    "a) a for loop\n",
    "\n",
    "b) a list comprehension"
   ]
  },
  {
   "cell_type": "code",
   "execution_count": 73,
   "metadata": {},
   "outputs": [
    {
     "name": "stdout",
     "output_type": "stream",
     "text": [
      "[0, 1, 8, 27, 64, 125, 216, 343, 512, 729]\n"
     ]
    }
   ],
   "source": [
    "a = []\n",
    "for x in range (0,10):\n",
    "    x = x*x*x\n",
    "    a.append(x)\n",
    "    \n",
    "print(a)    "
   ]
  },
  {
   "cell_type": "code",
   "execution_count": 74,
   "metadata": {},
   "outputs": [
    {
     "name": "stdout",
     "output_type": "stream",
     "text": [
      "[0, 1, 8, 27, 64, 125, 216, 343, 512, 729]\n"
     ]
    }
   ],
   "source": [
    "x = [a**3 for a in range(0,10)]\n",
    "print(x) "
   ]
  },
  {
   "cell_type": "markdown",
   "metadata": {},
   "source": [
    "8\\. **List comprehension**\n",
    "\n",
    "Write, using the list comprehension, a single-line expression that gets the same result as the code in the cell below."
   ]
  },
  {
   "cell_type": "code",
   "execution_count": 18,
   "metadata": {},
   "outputs": [
    {
     "name": "stdout",
     "output_type": "stream",
     "text": [
      "[(0, 0), (0, 1), (0, 2), (0, 3), (1, 0), (1, 1), (1, 2), (1, 3), (2, 0), (2, 1), (2, 2), (2, 3)]\n"
     ]
    }
   ],
   "source": [
    "a = []\n",
    "for i in range(3):\n",
    "    for j in range(4):\n",
    "        a.append((i, j))\n",
    "print(a)"
   ]
  },
  {
   "cell_type": "code",
   "execution_count": 58,
   "metadata": {},
   "outputs": [
    {
     "name": "stdout",
     "output_type": "stream",
     "text": [
      "[(0, 0), (0, 1), (0, 2), (0, 3), (1, 0), (1, 1), (1, 2), (1, 3), (2, 0), (2, 1), (2, 2), (2, 3)]\n"
     ]
    }
   ],
   "source": [
    "print([(i,j) for i in range(0,3) for j in range(0,4)])"
   ]
  },
  {
   "cell_type": "markdown",
   "metadata": {},
   "source": [
    "9\\. **Nested list comprehension**\n",
    "\n",
    "> A Pythagorean triple is an integer solution to the Pythagorean theorem $a^2+b^2=c^2$. The first Pythagorean triple is (3, 4, 5).\n",
    "\n",
    "Find and put in a tuple all unique Pythagorean triples for the positive integers $a$, $b$ and $c$ with $c < 100$."
   ]
  },
  {
   "cell_type": "code",
   "execution_count": 36,
   "metadata": {
    "scrolled": true
   },
   "outputs": [
    {
     "name": "stdout",
     "output_type": "stream",
     "text": [
      "[(3, 4, 5), (5, 12, 13), (7, 24, 25), (9, 12, 15), (9, 40, 41), (11, 60, 61), (13, 84, 85), (15, 8, 17), (15, 20, 25), (15, 36, 39), (21, 20, 29), (21, 28, 35), (21, 72, 75), (25, 60, 65), (27, 36, 45), (33, 44, 55), (33, 56, 65), (35, 12, 37), (35, 84, 91), (39, 52, 65), (39, 80, 89), (45, 24, 51), (45, 28, 53), (45, 60, 75), (51, 68, 85), (55, 48, 73), (57, 76, 95), (63, 16, 65), (63, 60, 87), (65, 72, 97), (75, 40, 85), (77, 36, 85)]\n"
     ]
    }
   ],
   "source": [
    "A = ([(a,b,c) for a in range(1,101,2) for b in range(2,101,2) for c in range(1,100) if (a**2 +b**2 == c**2)])\n",
    "print(A)"
   ]
  },
  {
   "cell_type": "markdown",
   "metadata": {},
   "source": [
    "10\\. **Normalization of a N-dimensional vector**\n",
    "\n",
    "Write a program that takes an N-dimensional vector, e.g. a variable-length tuple of numbers, and normalizes it to one (in such a way that the squared sum of all the entries is equal to 1)."
   ]
  },
  {
   "cell_type": "code",
   "execution_count": 42,
   "metadata": {},
   "outputs": [
    {
     "name": "stdout",
     "output_type": "stream",
     "text": [
      "Number of elements\n",
      "20\n",
      "[6.16346934 3.6100489  2.85597041 8.38413562 2.67349472 0.25353184\n",
      " 3.48871395 5.0954276  0.38769289 7.53521495 8.19055319 9.6936837\n",
      " 3.14410179 4.64787987 5.74353374 3.14701045 4.61345617 0.39340161\n",
      " 9.05413912 7.85057177]\n",
      "[0.52731509 0.30885742 0.2443423  0.717304   0.22873061 0.0216909\n",
      " 0.29847662 0.43593887 0.03316903 0.64467467 0.70074208 0.82934228\n",
      " 0.26899336 0.39764896 0.49138754 0.26924221 0.39470385 0.03365744\n",
      " 0.7746261  0.67165499]\n",
      "0.9999999999999999\n"
     ]
    }
   ],
   "source": [
    "import numpy as np\n",
    "import math as m \n",
    "\n",
    "N = int(input('Number of elements\\n'))\n",
    "x = (np.random.rand(N)*10)\n",
    "print(x)\n",
    "\n",
    "a=0\n",
    "for i in range (0,5):\n",
    "    p = x[i]\n",
    "    a += p**2\n",
    "a = m.sqrt(a) \n",
    "x = x/a \n",
    "print (x)    \n",
    "b=0\n",
    "for i in range (0,5):\n",
    "    b += x[i]**2\n",
    "print(b)"
   ]
  },
  {
   "cell_type": "markdown",
   "metadata": {},
   "source": [
    "##### 11\\. **The Fibonacci sequence**\n",
    "\n",
    "Calculate the first 20 numbers of the [Fibonacci sequence](https://en.wikipedia.org/wiki/Fibonacci_number) using only `for` or `while` loops."
   ]
  },
  {
   "cell_type": "code",
   "execution_count": 18,
   "metadata": {},
   "outputs": [
    {
     "name": "stdout",
     "output_type": "stream",
     "text": [
      "[0, 1, 1, 2, 3, 5, 8, 13, 21, 34, 55, 89, 144, 233, 377, 610, 987, 1597, 2584, 4181]\n"
     ]
    }
   ],
   "source": [
    "a = 0  #initialisation\n",
    "b = 1  #initialisation\n",
    "d = [a,b] #initialisation\n",
    "for i in range (1,19):\n",
    "    c = a+b\n",
    "    d.append(c)\n",
    "    a = b\n",
    "    b = c\n",
    "print(d)    "
   ]
  },
  {
   "cell_type": "code",
   "execution_count": null,
   "metadata": {},
   "outputs": [],
   "source": []
  }
 ],
 "metadata": {
  "celltoolbar": "Raw Cell Format",
  "kernelspec": {
   "display_name": "Python 3 (ipykernel)",
   "language": "python",
   "name": "python3"
  },
  "language_info": {
   "codemirror_mode": {
    "name": "ipython",
    "version": 3
   },
   "file_extension": ".py",
   "mimetype": "text/x-python",
   "name": "python",
   "nbconvert_exporter": "python",
   "pygments_lexer": "ipython3",
   "version": "3.9.13"
  }
 },
 "nbformat": 4,
 "nbformat_minor": 4
}
